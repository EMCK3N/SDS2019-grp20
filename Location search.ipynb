{
 "cells": [
  {
   "cell_type": "code",
   "execution_count": 5,
   "metadata": {},
   "outputs": [],
   "source": [
    "import pandas as pd\n",
    "pd.options.display.max_colwidth = 200\n",
    "from urllib.request import urlopen\n",
    "from bs4 import BeautifulSoup as bs\n",
    "import re"
   ]
  },
  {
   "cell_type": "code",
   "execution_count": 6,
   "metadata": {},
   "outputs": [],
   "source": [
    "df = pd.read_csv(\"page_urls.csv\")"
   ]
  },
  {
   "cell_type": "code",
   "execution_count": 7,
   "metadata": {
    "scrolled": true
   },
   "outputs": [
    {
     "data": {
      "text/html": [
       "<div>\n",
       "<style scoped>\n",
       "    .dataframe tbody tr th:only-of-type {\n",
       "        vertical-align: middle;\n",
       "    }\n",
       "\n",
       "    .dataframe tbody tr th {\n",
       "        vertical-align: top;\n",
       "    }\n",
       "\n",
       "    .dataframe thead th {\n",
       "        text-align: right;\n",
       "    }\n",
       "</style>\n",
       "<table border=\"1\" class=\"dataframe\">\n",
       "  <thead>\n",
       "    <tr style=\"text-align: right;\">\n",
       "      <th></th>\n",
       "      <th>Unnamed: 0</th>\n",
       "      <th>0</th>\n",
       "    </tr>\n",
       "  </thead>\n",
       "  <tbody>\n",
       "    <tr>\n",
       "      <th>0</th>\n",
       "      <td>0</td>\n",
       "      <td>https://www.tripadvisor.com//Restaurant_Review-g189541-d15804886-Reviews-The_Pescatarian-Copenhagen_Zealand.html</td>\n",
       "    </tr>\n",
       "    <tr>\n",
       "      <th>1</th>\n",
       "      <td>1</td>\n",
       "      <td>https://www.tripadvisor.com//Restaurant_Review-g189541-d13979688-Reviews-Trattoria_SUD-Copenhagen_Zealand.html</td>\n",
       "    </tr>\n",
       "    <tr>\n",
       "      <th>2</th>\n",
       "      <td>2</td>\n",
       "      <td>https://www.tripadvisor.com//Restaurant_Review-g806262-d1604419-Reviews-Enomania-Frederiksberg_Copenhagen_Zealand.html</td>\n",
       "    </tr>\n",
       "    <tr>\n",
       "      <th>3</th>\n",
       "      <td>3</td>\n",
       "      <td>https://www.tripadvisor.com//Restaurant_Review-g189541-d1945657-Reviews-Geranium-Copenhagen_Zealand.html</td>\n",
       "    </tr>\n",
       "    <tr>\n",
       "      <th>4</th>\n",
       "      <td>4</td>\n",
       "      <td>https://www.tripadvisor.com//Restaurant_Review-g189541-d12454509-Reviews-Garden_Restaurant_Bar-Copenhagen_Zealand.html</td>\n",
       "    </tr>\n",
       "  </tbody>\n",
       "</table>\n",
       "</div>"
      ],
      "text/plain": [
       "   Unnamed: 0  \\\n",
       "0           0   \n",
       "1           1   \n",
       "2           2   \n",
       "3           3   \n",
       "4           4   \n",
       "\n",
       "                                                                                                                        0  \n",
       "0        https://www.tripadvisor.com//Restaurant_Review-g189541-d15804886-Reviews-The_Pescatarian-Copenhagen_Zealand.html  \n",
       "1          https://www.tripadvisor.com//Restaurant_Review-g189541-d13979688-Reviews-Trattoria_SUD-Copenhagen_Zealand.html  \n",
       "2  https://www.tripadvisor.com//Restaurant_Review-g806262-d1604419-Reviews-Enomania-Frederiksberg_Copenhagen_Zealand.html  \n",
       "3                https://www.tripadvisor.com//Restaurant_Review-g189541-d1945657-Reviews-Geranium-Copenhagen_Zealand.html  \n",
       "4  https://www.tripadvisor.com//Restaurant_Review-g189541-d12454509-Reviews-Garden_Restaurant_Bar-Copenhagen_Zealand.html  "
      ]
     },
     "execution_count": 7,
     "metadata": {},
     "output_type": "execute_result"
    }
   ],
   "source": [
    "df.head()"
   ]
  },
  {
   "cell_type": "code",
   "execution_count": 8,
   "metadata": {
    "scrolled": true
   },
   "outputs": [],
   "source": [
    "#link fra csv\n",
    "web_url = df.iloc[2][1]\n",
    "url = urlopen(web_url)\n",
    "url_html = url.read()\n",
    "url_soup = bs(url_html,'html')"
   ]
  },
  {
   "cell_type": "code",
   "execution_count": 9,
   "metadata": {},
   "outputs": [
    {
     "name": "stdout",
     "output_type": "stream",
     "text": [
      "Vesterbrogade 187\n",
      "Vesterbrogade 187, Frederiksberg, Copenhagen 1800 Denmark\n",
      "244 reviews\n"
     ]
    }
   ],
   "source": [
    "\n",
    "#Exstracting adresses \n",
    "adress = str(url_soup.find(class_=\"street-address\"))\n",
    "adress = adress.split(\">\")[1].split(\"<\")[0]\n",
    "print(adress)\n",
    "\n",
    "extented_adress = str(url_soup.find(class_=\"restaurants-detail-overview-cards-LocationOverviewCard__detailLinkText--co3ei\"))\n",
    "extented_adress = extented_adress.split(\">\")[1].split(\"<\")[0]\n",
    "print(extented_adress)\n",
    "\n",
    "#reviewCount\n",
    "reviewCount = str(url_soup.find(class_=\"reviewCount\"))\n",
    "reviewCount = reviewCount.split(\">\")[1].split(\"<\")[0]\n",
    "print(reviewCount)\n"
   ]
  },
  {
   "cell_type": "code",
   "execution_count": 10,
   "metadata": {},
   "outputs": [
    {
     "name": "stdout",
     "output_type": "stream",
     "text": [
      "Amaliegade 49\n",
      "Amaliegade 49 On the corner of Amaliegade &amp; Esplanaden, Copenhagen 1256 Denmark\n",
      "196 reviews\n",
      "\n",
      "Frederiksborggade 27\n",
      "Frederiksborggade 27 Close to Nørreport station and Israels Plads, Copenhagen 1360 Denmark\n",
      "306 reviews\n",
      "\n"
     ]
    }
   ],
   "source": [
    "#loop through pages \n",
    "csv_links = df[\"0\"].values.tolist()\n",
    "\n",
    "for x in csv_links[:2]:\n",
    "    url = urlopen(x)\n",
    "    url_html = url.read()\n",
    "    url_soup = bs(url_html,'html')\n",
    "    \n",
    "    #Exstracting adresses \n",
    "    adress = str(url_soup.find(class_=\"street-address\"))\n",
    "    adress = adress.split(\">\")[1].split(\"<\")[0]\n",
    "    print(adress)\n",
    "\n",
    "    extented_adress = str(url_soup.find(class_=\"restaurants-detail-overview-cards-LocationOverviewCard__detailLinkText--co3ei\"))\n",
    "    extented_adress = extented_adress.split(\">\")[1].split(\"<\")[0]\n",
    "    print(extented_adress)\n",
    "\n",
    "    #reviewCount\n",
    "    reviewCount = str(url_soup.find(class_=\"reviewCount\"))\n",
    "    reviewCount = reviewCount.split(\">\")[1].split(\"<\")[0]\n",
    "    print(reviewCount)\n",
    "    print()\n",
    "    "
   ]
  },
  {
   "cell_type": "code",
   "execution_count": 11,
   "metadata": {
    "scrolled": true
   },
   "outputs": [],
   "source": [
    "#soup = bs(url_html, 'lxml')\n",
    "#for link in soup.find_all('img'):\n",
    "#   print(link.get('src'))"
   ]
  },
  {
   "cell_type": "code",
   "execution_count": 17,
   "metadata": {},
   "outputs": [
    {
     "name": "stdout",
     "output_type": "stream",
     "text": [
      "55.68799,12.596316\n",
      "55.684696,12.568494\n",
      "55.670773,12.531963\n",
      "55.7036,12.572\n",
      "55.68335,12.57827\n",
      "55.679256,12.524991\n",
      "55.67783,12.592299\n",
      "55.68125,12.571284\n",
      "55.684692,12.588044\n",
      "55.68388,12.58657\n"
     ]
    }
   ],
   "source": [
    "import requests, re\n",
    "\n",
    "csv_links = df[\"0\"].values.tolist()\n",
    "for x in csv_links[:10]:\n",
    "    p = re.compile(r'\"coords\":\"(.*?)\"')\n",
    "    r = requests.get(x)\n",
    "    coords = p.findall(r.text)[1]\n",
    "    #src = f'https://trip-raster.citymaps.io/staticmap?scale=1&zoom=15&size=347x137&language=da&center={coords}&markers=icon:http://c1.tacdn.com//img2/maps/icons/component_map_pins_v1/R_Pin_Small.png|{coords}'\n",
    "    #print(src)\n",
    "    print(coords)"
   ]
  },
  {
   "cell_type": "code",
   "execution_count": 13,
   "metadata": {
    "scrolled": false
   },
   "outputs": [],
   "source": [
    "#from selenium import webdriver\n",
    "\n",
    "#csv_links = df[\"0\"].values.tolist()\n",
    "#for x in csv_links[:5]:\n",
    "\n",
    "#driver = webdriver.Chrome('chromedriver.exe')\n",
    "#driver.get(\"https://www.tripadvisor.com//Restaurant_Review-g189541-d15804886-Reviews-The_Pescatarian-Copenhagen_Zealand.html\")\n",
    "#links = driver.find_elements_by_xpath(\"//*[@src]\")\n",
    "\n",
    "#urls = []\n",
    "\n",
    "#for link in links:\n",
    " #   url = link.get_attribute('src')\n",
    "  #  if '|' in url:\n",
    "   #     urls.append(url.split('|')[1])  # saves in a list only the numbers you want i.e. 55.68799,12.596316\n",
    "    #print(url)\n",
    "#print(urls)"
   ]
  },
  {
   "cell_type": "code",
   "execution_count": null,
   "metadata": {},
   "outputs": [],
   "source": []
  },
  {
   "cell_type": "code",
   "execution_count": null,
   "metadata": {},
   "outputs": [],
   "source": []
  }
 ],
 "metadata": {
  "kernelspec": {
   "display_name": "Python 3",
   "language": "python",
   "name": "python3"
  },
  "language_info": {
   "codemirror_mode": {
    "name": "ipython",
    "version": 3
   },
   "file_extension": ".py",
   "mimetype": "text/x-python",
   "name": "python",
   "nbconvert_exporter": "python",
   "pygments_lexer": "ipython3",
   "version": "3.7.3"
  }
 },
 "nbformat": 4,
 "nbformat_minor": 2
}
