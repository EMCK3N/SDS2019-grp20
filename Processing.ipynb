{
 "cells": [
  {
   "cell_type": "code",
   "execution_count": 145,
   "metadata": {},
   "outputs": [],
   "source": [
    "import pandas as pd\n",
    "import matplotlib\n",
    "import numpy as np\n",
    "# Import data \n",
    "data = pd.read_csv(\"Tripadvisordata_200.csv\")\n",
    "\n",
    "# edit missing data\n",
    "data[\"Price class\"] = data[\"Price class\"].replace(np.nan, '--$$$$$$', regex=True)\n"
   ]
  },
  {
   "cell_type": "code",
   "execution_count": 146,
   "metadata": {},
   "outputs": [],
   "source": [
    "# Translate the price class, to a numeric value\n",
    "\n",
    "string = data[\"Price class\"]\n",
    "string = [word.replace('nan','--$$$$$$') for word in string]\n",
    "\n",
    "# find indexnumbers for more places with missing with missing data\n",
    "list = []\n",
    "for i in range(len(string)):    \n",
    "    if \"$\" not in string[i]:\n",
    "        list.append(i)\n",
    "\n",
    "for i in list: \n",
    "    string[i] = '--$$$$$$'\n",
    "\n",
    "    "
   ]
  },
  {
   "cell_type": "code",
   "execution_count": 147,
   "metadata": {},
   "outputs": [
    {
     "name": "stdout",
     "output_type": "stream",
     "text": [
      "100\n"
     ]
    }
   ],
   "source": [
    "#control everything is still here\n",
    "print(len(string))\n",
    "\n",
    "# Filter the \"-\"'s      \n",
    "new = []\n",
    "for i in string:\n",
    "    x = i.split('--')[1]\n",
    "    new.append(x)\n",
    "\n",
    "\n",
    "data[\"New Price class\"] = new\n",
    "\n",
    "#the tranlating keys\n",
    "dollarsign = [\"$\", \"$-$$\", \"$$\", \"$$-$$$\", \"$$$\", \"$$$-$$$$\",\"$$$$\", \"$$$$-$$$$$\", \"$$$$$\", '$$$$$$']\n",
    "values = [1, 1, 1, 2, 2, 2, 3, 3, 3, 'null']\n",
    "\n",
    "# make dataframe\n",
    "d = {'New Price class': [\"$\", \"$-$$\", \"$$\", \"$$-$$$\", \"$$$\", \"$$$-$$$$\",\"$$$$\", \"$$$$-$$$$$\", \"$$$$$\", '$$$$$$'], 'Price Class Numeric': [1, 1, 1, 2, 2, 2, 3, 3, 3, 99]}\n",
    "translate_priceclass = pd.DataFrame(d)\n",
    "\n"
   ]
  },
  {
   "cell_type": "code",
   "execution_count": 148,
   "metadata": {},
   "outputs": [],
   "source": [
    "#join to dataframe\n",
    "new_data = pd.merge(data, translate_priceclass, on='New Price class', how='left')\n"
   ]
  },
  {
   "cell_type": "code",
   "execution_count": 149,
   "metadata": {},
   "outputs": [],
   "source": [
    "# Remove the word \"anmeldelser\" from \"number of reviews column\"\n",
    "\n",
    "new_data[\"Number of reviews\"] = new_data[\"Number of reviews\"].replace(\" anmeldelser\", '', regex=True)\n",
    "\n"
   ]
  },
  {
   "cell_type": "code",
   "execution_count": 150,
   "metadata": {},
   "outputs": [],
   "source": [
    "# Make our own ranking system\n",
    "new_data[\"Reverse ranking on list\"] = (-1)*new_data[\"Ranking on list\"]\n",
    "\n",
    "# sort on rating, ranking on list and number of reviews\n",
    "new_data = new_data.sort_values(by=[\"Main rating\", \"Reverse ranking on list\", \"Number of reviews\"])\n",
    "\n",
    "# Add ranking\n",
    "new_data[\"Full ranking\"] = range(1,len(new_data[\"Number of reviews\"])+1)\n"
   ]
  },
  {
   "cell_type": "code",
   "execution_count": 151,
   "metadata": {},
   "outputs": [],
   "source": [
    "køkken_list = ['Café', 'Afrikansk','Amerikansk','Arabisk','Argentinsk','Armensk','Aserbajdsjansk','Asiatisk','Bar','Belgisk','Brasiliansk','Britisk','Cajun og kreolsk','Cambodjansk','Canadisk','Caribisk','Centralasiatisk','Centraleuropæisk','Centralitaliensk','Dansk','Delikatesseforretning','Egyptisk','Etiopisk','Europæisk','Fastfood','Filippinsk','Fisk og skaldyr','Fra Lazio','Fra Shanghai','Fransk','Fusion','Gademad','Gastropub','Grill','Grillmad','Græsk','Hawaiiansk','Hollandsk','Hongkong','Indiansk','Indisk','Indonesisk','International','Irsk','Israelsk','Italiensk','Japansk','Kantonesisk','Kinesisk','Koreansk','Kroatisk','Latinamerikansk','Libanesisk','Malaysisk','Marokkansk','Mellemamerikansk','Mellemøstlig','Mexicansk','Middelhavsområdet','Moderne','Mongolsk','Nepalesisk','New Zealand','Norditaliensk','Norsk','Pakistansk','Persisk','Peruviansk','Pizza','Portugisisk''Pub','Russisk','Schweizisk','Siciliansk','Singaporeansk','Skandinavisk','Spansk','Specialiteter fra Beijing','Spisested','Steakhouse','Sund','Supper','Sushi','Svensk','Sydamerikansk','Syditaliensk','Szechuan','Taiwansk','Thai','Tibetansk','Toscansk','Tyrkisk','Tysk','Venezuelansk','Vietnamesisk','Vinstue','Xinjiang','Ølpub','Østeuropæisk','Østrigsk']\n",
    "most_pop = ['Café', \"Italiensk\", \"Pizza\", \"Indisk\", \"Fisk og skaldyr\", \"Thai\", \"Steakhouse\", \"Mexikansk\"]\n",
    "\n",
    "link_list = new_data[\"Type of food\"]\n",
    "link_df = pd.DataFrame(link_list)\n",
    "\n",
    "list_test = [] #list of list over kitchens\n",
    "for link in link_list:\n",
    "    list_test.append([x for x in køkken_list if x in link])\n",
    "\n"
   ]
  },
  {
   "cell_type": "code",
   "execution_count": 152,
   "metadata": {},
   "outputs": [],
   "source": [
    "link_test2 = []\n",
    "for link in link_list:\n",
    "    link_test2.append([x for x in most_pop if x in link])\n",
    "link_test2\n",
    "\n",
    "new_data[\"Pop kitchen\"] = link_test2\n"
   ]
  },
  {
   "cell_type": "code",
   "execution_count": 153,
   "metadata": {},
   "outputs": [],
   "source": [
    "# Send to new csv\n",
    "\n",
    "new_data.to_csv(\"Tripadvisordata_red_200.csv\")\n"
   ]
  }
 ],
 "metadata": {
  "kernelspec": {
   "display_name": "Python 3",
   "language": "python",
   "name": "python3"
  },
  "language_info": {
   "codemirror_mode": {
    "name": "ipython",
    "version": 3
   },
   "file_extension": ".py",
   "mimetype": "text/x-python",
   "name": "python",
   "nbconvert_exporter": "python",
   "pygments_lexer": "ipython3",
   "version": "3.7.3"
  }
 },
 "nbformat": 4,
 "nbformat_minor": 2
}
