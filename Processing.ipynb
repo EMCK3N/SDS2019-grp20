{
 "cells": [
  {
   "cell_type": "code",
   "execution_count": 7,
   "metadata": {},
   "outputs": [
    {
     "name": "stdout",
     "output_type": "stream",
     "text": [
      "{nan, '--$$-$$$---------', '--$------', '--$$-$$$------', '------', '--$$$$------', '--$$$$---', '--$---------', '--$---', '---', '--$', '------------', '--$$$$---------', '--$$-$$$', '---------', '--$$$$', '--$$-$$$---'}\n"
     ]
    },
    {
     "data": {
      "text/html": [
       "<div>\n",
       "<style scoped>\n",
       "    .dataframe tbody tr th:only-of-type {\n",
       "        vertical-align: middle;\n",
       "    }\n",
       "\n",
       "    .dataframe tbody tr th {\n",
       "        vertical-align: top;\n",
       "    }\n",
       "\n",
       "    .dataframe thead th {\n",
       "        text-align: right;\n",
       "    }\n",
       "</style>\n",
       "<table border=\"1\" class=\"dataframe\">\n",
       "  <thead>\n",
       "    <tr style=\"text-align: right;\">\n",
       "      <th></th>\n",
       "      <th>Name</th>\n",
       "      <th>Main rating</th>\n",
       "      <th>Ranking on list</th>\n",
       "      <th>Price range</th>\n",
       "      <th>Price class</th>\n",
       "      <th>Number of reviews</th>\n",
       "      <th>Location</th>\n",
       "      <th>Distance from Kgs. Nytorv</th>\n",
       "      <th>Service</th>\n",
       "      <th>Type of food</th>\n",
       "      <th>Address</th>\n",
       "      <th>Good price</th>\n",
       "      <th>Food</th>\n",
       "      <th>Atmosphere</th>\n",
       "    </tr>\n",
       "  </thead>\n",
       "  <tbody>\n",
       "    <tr>\n",
       "      <th>0</th>\n",
       "      <td>Restaurant Grønnegade</td>\n",
       "      <td>4.5</td>\n",
       "      <td>28.0</td>\n",
       "      <td>------16201.-664.</td>\n",
       "      <td>--$$$$---</td>\n",
       "      <td>525 anmeldelser</td>\n",
       "      <td>55.681705,12.583386</td>\n",
       "      <td>199.0</td>\n",
       "      <td>4.5</td>\n",
       "      <td>Dansk</td>\n",
       "      <td>Grønnegade 39, København 1107 Danmark</td>\n",
       "      <td>4.5</td>\n",
       "      <td>4.5</td>\n",
       "      <td>4.5</td>\n",
       "    </tr>\n",
       "    <tr>\n",
       "      <th>1</th>\n",
       "      <td>Basso København</td>\n",
       "      <td>4.5</td>\n",
       "      <td>18.0</td>\n",
       "      <td>------16127.-496.</td>\n",
       "      <td>--$$-$$$---------</td>\n",
       "      <td>345 anmeldelser</td>\n",
       "      <td>55.68388,12.58657</td>\n",
       "      <td>459.0</td>\n",
       "      <td>4.5</td>\n",
       "      <td>Europæisk</td>\n",
       "      <td>Dronningens Tvaergade 22, København 1302 Danmark</td>\n",
       "      <td>4.5</td>\n",
       "      <td>4.5</td>\n",
       "      <td>NaN</td>\n",
       "    </tr>\n",
       "    <tr>\n",
       "      <th>2</th>\n",
       "      <td>Enomania</td>\n",
       "      <td>4.5</td>\n",
       "      <td>1.0</td>\n",
       "      <td>------16134.-168.</td>\n",
       "      <td>--$$-$$$------</td>\n",
       "      <td>245 anmeldelser</td>\n",
       "      <td>55.670773,12.531963</td>\n",
       "      <td>3431.0</td>\n",
       "      <td>5.0</td>\n",
       "      <td>Europæisk</td>\n",
       "      <td>Vesterbrogade 187, Frederiksberg, København 18...</td>\n",
       "      <td>4.5</td>\n",
       "      <td>5.0</td>\n",
       "      <td>4.5</td>\n",
       "    </tr>\n",
       "    <tr>\n",
       "      <th>3</th>\n",
       "      <td>Restaurant Krebsegaarden</td>\n",
       "      <td>5.0</td>\n",
       "      <td>2.0</td>\n",
       "      <td>------16161.-396.</td>\n",
       "      <td>--$$$$---</td>\n",
       "      <td>1.310 anmeldelser</td>\n",
       "      <td>55.67872,12.569877</td>\n",
       "      <td>908.0</td>\n",
       "      <td>5.0</td>\n",
       "      <td>Dansk</td>\n",
       "      <td>Studiestraede 17, København 1455 Danmark</td>\n",
       "      <td>4.5</td>\n",
       "      <td>5.0</td>\n",
       "      <td>4.5</td>\n",
       "    </tr>\n",
       "    <tr>\n",
       "      <th>4</th>\n",
       "      <td>The Pescatarian</td>\n",
       "      <td>5.0</td>\n",
       "      <td>6.0</td>\n",
       "      <td>------16402.-597.</td>\n",
       "      <td>--$$$$------</td>\n",
       "      <td>198 anmeldelser</td>\n",
       "      <td>55.68799,12.596316</td>\n",
       "      <td>1171.0</td>\n",
       "      <td>5.0</td>\n",
       "      <td>Dansk</td>\n",
       "      <td>Amaliegade 49 On the corner of Amaliegade &amp; Es...</td>\n",
       "      <td>4.5</td>\n",
       "      <td>5.0</td>\n",
       "      <td>NaN</td>\n",
       "    </tr>\n",
       "  </tbody>\n",
       "</table>\n",
       "</div>"
      ],
      "text/plain": [
       "                       Name  Main rating  Ranking on list        Price range  \\\n",
       "0     Restaurant Grønnegade          4.5             28.0  ------16201.-664.   \n",
       "1           Basso København          4.5             18.0  ------16127.-496.   \n",
       "2                  Enomania          4.5              1.0  ------16134.-168.   \n",
       "3  Restaurant Krebsegaarden          5.0              2.0  ------16161.-396.   \n",
       "4           The Pescatarian          5.0              6.0  ------16402.-597.   \n",
       "\n",
       "         Price class  Number of reviews             Location  \\\n",
       "0          --$$$$---    525 anmeldelser  55.681705,12.583386   \n",
       "1  --$$-$$$---------    345 anmeldelser    55.68388,12.58657   \n",
       "2     --$$-$$$------    245 anmeldelser  55.670773,12.531963   \n",
       "3          --$$$$---  1.310 anmeldelser   55.67872,12.569877   \n",
       "4       --$$$$------    198 anmeldelser   55.68799,12.596316   \n",
       "\n",
       "   Distance from Kgs. Nytorv  Service Type of food  \\\n",
       "0                      199.0      4.5        Dansk   \n",
       "1                      459.0      4.5    Europæisk   \n",
       "2                     3431.0      5.0    Europæisk   \n",
       "3                      908.0      5.0        Dansk   \n",
       "4                     1171.0      5.0        Dansk   \n",
       "\n",
       "                                             Address  Good price  Food  \\\n",
       "0              Grønnegade 39, København 1107 Danmark         4.5   4.5   \n",
       "1   Dronningens Tvaergade 22, København 1302 Danmark         4.5   4.5   \n",
       "2  Vesterbrogade 187, Frederiksberg, København 18...         4.5   5.0   \n",
       "3           Studiestraede 17, København 1455 Danmark         4.5   5.0   \n",
       "4  Amaliegade 49 On the corner of Amaliegade & Es...         4.5   5.0   \n",
       "\n",
       "   Atmosphere  \n",
       "0         4.5  \n",
       "1         NaN  \n",
       "2         4.5  \n",
       "3         4.5  \n",
       "4         NaN  "
      ]
     },
     "execution_count": 7,
     "metadata": {},
     "output_type": "execute_result"
    }
   ],
   "source": [
    "import pandas as pd\n",
    "import matplotlib\n",
    "import numpy as np\n",
    "# Import data \n",
    "data = pd.read_csv(\"Tripadvisordata.csv\")\n",
    "\n",
    "# edit missing data\n",
    "data[\"Price class\"] = data[\"Price class\"].replace(np.nan, '--$$$$$$', regex=True)\n",
    "\n"
   ]
  },
  {
   "cell_type": "code",
   "execution_count": 3,
   "metadata": {},
   "outputs": [],
   "source": [
    "# Translate the price class, to a numeric value\n",
    "\n",
    "string = data[\"Price class\"]\n",
    "string = [word.replace('nan','--$$$$$$') for word in string]\n",
    "\n",
    "# find indexnumbers for more places with missing with missing data\n",
    "list = []\n",
    "for i in range(len(string)):    \n",
    "    if \"$\" not in string[i]:\n",
    "        list.append(i)\n",
    "\n",
    "for i in list: \n",
    "    string[i] = '--$$$$$$'\n",
    "\n",
    "    "
   ]
  },
  {
   "cell_type": "code",
   "execution_count": 4,
   "metadata": {},
   "outputs": [
    {
     "name": "stdout",
     "output_type": "stream",
     "text": [
      "2000\n"
     ]
    }
   ],
   "source": [
    "#control everything is still here\n",
    "print(len(string))\n",
    "\n",
    "# Filter the \"-\"'s      \n",
    "new = []\n",
    "for i in string:\n",
    "    x = i.split('--')[1]\n",
    "    new.append(x)\n",
    "\n",
    "\n",
    "data[\"New Price class\"] = new\n",
    "\n",
    "dollarsign = [\"$\", \"$-$$\", \"$$\", \"$$-$$$\", \"$$$\", \"$$$-$$$$\",\"$$$$\", \"$$$$-$$$$$\", \"$$$$$\", '$$$$$$']\n",
    "values = [1, 1.5, 2, 2.5, 3, 3.5, 4, 4.5, 5, 'null']\n",
    "\n",
    "\n",
    "d = {'New Price class': [\"$\", \"$-$$\", \"$$\", \"$$-$$$\", \"$$$\", \"$$$-$$$$\",\"$$$$\", \"$$$$-$$$$$\", \"$$$$$\", '$$$$$$'], 'Price Class Numeric': [1, 1.5, 2, 2.5, 3, 3.5, 4, 4.5, 5, 99]}\n",
    "translate_priceclass = pd.DataFrame(d)\n",
    "\n"
   ]
  },
  {
   "cell_type": "code",
   "execution_count": 5,
   "metadata": {},
   "outputs": [
    {
     "name": "stdout",
     "output_type": "stream",
     "text": [
      "{'--$$-$$$---------', '--$------', '--$$-$$$------', '------', '--$$$$$$', '--$$$$------', '--$$$$---', '--$---------', '--$---', '---', '--$', '------------', '--$$$$---------', '--$$-$$$', '---------', '--$$$$', '--$$-$$$---'}\n",
      "{'$$-$$$', '$', '$$$$', '$$$$$$'}\n",
      "{1.0, 2.5, 99.0, 4.0}\n"
     ]
    }
   ],
   "source": [
    "new_data = pd.merge(data, translate_priceclass, on='New Price class', how='left')\n",
    "\n",
    "new_data.head()\n",
    "\n",
    "print(set(new_data[\"Price class\"]))\n",
    "print(set(new_data[\"New Price class\"]))\n",
    "print(set(new_data[\"Price Class Numeric\"]))\n"
   ]
  },
  {
   "cell_type": "code",
   "execution_count": 10,
   "metadata": {},
   "outputs": [],
   "source": [
    "# Remove the word \"anmeldelser\" from \"number of reviews column\"\n",
    "\n",
    "data[\"Number of reviews\"] = data[\"Number of reviews\"].replace(\" anmeldelser\", '', regex=True)\n"
   ]
  },
  {
   "cell_type": "code",
   "execution_count": 6,
   "metadata": {},
   "outputs": [],
   "source": [
    "# Send to new csv\n",
    "\n",
    "new_data.to_csv(\"Tripadvisordata_red.csv\")\n"
   ]
  },
  {
   "cell_type": "markdown",
   "metadata": {},
   "source": [
    "## Ideer \n",
    "\n",
    "Afstand/vurderings scatter (evt binned)\n",
    "Afstand/kvalitet scatter (evt binned)\n",
    "Afstand/service scatter (evt binned)\n",
    "Pris/kvalitet plot\n",
    "\n",
    "Vurdering/antal anmeldelser\n",
    "\n",
    "Priskort\n",
    "Kvallitetskort\n"
   ]
  },
  {
   "cell_type": "code",
   "execution_count": null,
   "metadata": {},
   "outputs": [],
   "source": []
  }
 ],
 "metadata": {
  "kernelspec": {
   "display_name": "Python 3",
   "language": "python",
   "name": "python3"
  },
  "language_info": {
   "codemirror_mode": {
    "name": "ipython",
    "version": 3
   },
   "file_extension": ".py",
   "mimetype": "text/x-python",
   "name": "python",
   "nbconvert_exporter": "python",
   "pygments_lexer": "ipython3",
   "version": "3.7.3"
  }
 },
 "nbformat": 4,
 "nbformat_minor": 2
}
