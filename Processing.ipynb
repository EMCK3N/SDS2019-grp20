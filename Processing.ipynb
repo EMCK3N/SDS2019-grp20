{
 "cells": [
  {
   "cell_type": "code",
   "execution_count": 1,
   "metadata": {},
   "outputs": [],
   "source": [
    "import pandas as pd\n",
    "import matplotlib\n",
    "# Import data \n",
    "data = pd.read_csv(\"Tripadvisordata.csv\")\n",
    "#data = pd.read_excel(\"data cleaned.xlsx\", sheet_name=\"Sheet1\")\n"
   ]
  },
  {
   "cell_type": "code",
   "execution_count": 14,
   "metadata": {},
   "outputs": [
    {
     "name": "stdout",
     "output_type": "stream",
     "text": [
      "597\n"
     ]
    }
   ],
   "source": [
    "string = list(data[\"Price class\"])\n",
    "print(len(string))\n",
    "\n",
    "new = []\n",
    "for i in string:\n",
    "    x = i.split('--')[1]\n",
    "    new.append(x)\n",
    "\n",
    "data[\"New Price class\"] = new\n",
    "\n",
    "dollarsign = [\"$\", \"$-$$\", \"$$\", \"$$-$$$\", \"$$$\", \"$$$-$$$$\",\"$$$$\", \"$$$$-$$$$$\", \"$$$$$\"]\n",
    "values = [1, 1.5, 2, 2.5, 3, 3.5, 4, 4.5, 5]\n",
    "translate_priceclass = pd.DataFrame(list(zip(dollarsign,values)), columns=['Dollarsign', 'Priceclass_num'])\n",
    "\n",
    "\n",
    "data['Priceclass_num'] = data['New Price class'].map(translate_priceclass.set_index('Dollarsign')['Priceclass_num'])\n",
    "\n"
   ]
  },
  {
   "cell_type": "code",
   "execution_count": 15,
   "metadata": {},
   "outputs": [],
   "source": [
    "# Send to new csv\n",
    "\n",
    "data.to_csv(\"Tripadvisordata_red.csv\")\n"
   ]
  },
  {
   "cell_type": "markdown",
   "metadata": {},
   "source": [
    "## Ideer \n",
    "\n",
    "Afstand/vurderings scatter (evt binned)\n",
    "Afstand/kvalitet scatter (evt binned)\n",
    "Afstand/service scatter (evt binned)\n",
    "Pris/kvalitet plot\n",
    "\n",
    "Vurdering/antal anmeldelser\n",
    "\n",
    "Priskort\n",
    "Kvallitetskort\n"
   ]
  },
  {
   "cell_type": "code",
   "execution_count": null,
   "metadata": {},
   "outputs": [],
   "source": []
  }
 ],
 "metadata": {
  "kernelspec": {
   "display_name": "Python 3",
   "language": "python",
   "name": "python3"
  },
  "language_info": {
   "codemirror_mode": {
    "name": "ipython",
    "version": 3
   },
   "file_extension": ".py",
   "mimetype": "text/x-python",
   "name": "python",
   "nbconvert_exporter": "python",
   "pygments_lexer": "ipython3",
   "version": "3.7.3"
  }
 },
 "nbformat": 4,
 "nbformat_minor": 2
}
