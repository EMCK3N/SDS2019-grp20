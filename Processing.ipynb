{
 "cells": [
  {
   "cell_type": "code",
   "execution_count": 17,
   "metadata": {},
   "outputs": [
    {
     "name": "stdout",
     "output_type": "stream",
     "text": [
      "{nan, '--$$-$$$', '--$$$$', '--$---', '--$---------', '--$$$$---------', '--$', '--$$$$---', '---', '---------', '--$$-$$$---', '--$$-$$$---------', '--$$$$------', '--$$-$$$------', '------', '--$------'}\n"
     ]
    }
   ],
   "source": [
    "import pandas as pd\n",
    "import matplotlib\n",
    "import numpy as np\n",
    "# Import data \n",
    "data = pd.read_csv(\"Tripadvisordata.csv\")\n",
    "#data = pd.read_excel(\"data cleaned.xlsx\", sheet_name=\"Sheet1\")\n",
    "#print(data[\"Price class\"])\n",
    "#print(data[\"Price class\"].sort_values())\n",
    "print(set(data[\"Price class\"]))\n",
    "\n",
    "data[\"Price class\"] = data[\"Price class\"].replace(np.nan, '--$$$$$$', regex=True)\n",
    "\n"
   ]
  },
  {
   "cell_type": "code",
   "execution_count": 2,
   "metadata": {},
   "outputs": [],
   "source": [
    "string = data[\"Price class\"]\n",
    "\n",
    "#string = [word.replace('','<br />') for word in words]\n",
    "\n",
    "\n",
    "\n",
    "\n",
    "string = [word.replace('nan','--$$$$$$') for word in string]\n",
    "\n",
    "list = []\n",
    "for i in range(len(string)):    \n",
    "    if \"$\" not in string[i]:\n",
    "        list.append(i)\n",
    "\n",
    "for i in list: \n",
    "    string[i] = '--$$$$$$'\n",
    "\n",
    "    "
   ]
  },
  {
   "cell_type": "code",
   "execution_count": 3,
   "metadata": {},
   "outputs": [
    {
     "name": "stdout",
     "output_type": "stream",
     "text": [
      "1200\n"
     ]
    }
   ],
   "source": [
    "#string = list(data[\"Price class\"])\n",
    "\n",
    "print(len(string))\n",
    "\n",
    "      \n",
    "new = []\n",
    "for i in string:\n",
    "    x = i.split('--')[1]\n",
    "    new.append(x)\n",
    "\n",
    "\n",
    "data[\"New Price class\"] = new\n",
    "\n",
    "dollarsign = [\"$\", \"$-$$\", \"$$\", \"$$-$$$\", \"$$$\", \"$$$-$$$$\",\"$$$$\", \"$$$$-$$$$$\", \"$$$$$\", '$$$$$$']\n",
    "values = [1, 1.5, 2, 2.5, 3, 3.5, 4, 4.5, 5, 'null']\n",
    "\n",
    "\n",
    "d = {'New Price class': [\"$\", \"$-$$\", \"$$\", \"$$-$$$\", \"$$$\", \"$$$-$$$$\",\"$$$$\", \"$$$$-$$$$$\", \"$$$$$\", '$$$$$$'], 'Price Class Numeric': [1, 1.5, 2, 2.5, 3, 3.5, 4, 4.5, 5, 99]}\n",
    "translate_priceclass = pd.DataFrame(d)\n",
    "\n"
   ]
  },
  {
   "cell_type": "code",
   "execution_count": 14,
   "metadata": {},
   "outputs": [
    {
     "name": "stdout",
     "output_type": "stream",
     "text": [
      "{'--$$-$$$', '--$$$$', '--$---', '--$---------', '--$$$$---------', '--$', '--$$$$---', '---', '---------', '--$$-$$$---', '--$$-$$$---------', '--$$$$------', '--$$-$$$------', '------', '--$------', '--$$$$$$'}\n",
      "{'$$$$', '$', '$$$$$$', '$$-$$$'}\n",
      "{1.0, 2.5, 99.0, 4.0}\n"
     ]
    }
   ],
   "source": [
    "new_data = pd.merge(data, translate_priceclass, on='New Price class', how='left')\n",
    "\n",
    "new_data.head()\n",
    "\n",
    "print(set(new_data[\"Price class\"]))\n",
    "print(set(new_data[\"New Price class\"]))\n",
    "print(set(new_data[\"Price Class Numeric\"]))\n"
   ]
  },
  {
   "cell_type": "code",
   "execution_count": 42,
   "metadata": {},
   "outputs": [],
   "source": [
    "# Send to new csv\n",
    "\n",
    "new_data.to_csv(\"Tripadvisordata_red.csv\")\n"
   ]
  },
  {
   "cell_type": "markdown",
   "metadata": {},
   "source": [
    "## Ideer \n",
    "\n",
    "Afstand/vurderings scatter (evt binned)\n",
    "Afstand/kvalitet scatter (evt binned)\n",
    "Afstand/service scatter (evt binned)\n",
    "Pris/kvalitet plot\n",
    "\n",
    "Vurdering/antal anmeldelser\n",
    "\n",
    "Priskort\n",
    "Kvallitetskort\n"
   ]
  },
  {
   "cell_type": "code",
   "execution_count": null,
   "metadata": {},
   "outputs": [],
   "source": []
  }
 ],
 "metadata": {
  "kernelspec": {
   "display_name": "Python 3",
   "language": "python",
   "name": "python3"
  },
  "language_info": {
   "codemirror_mode": {
    "name": "ipython",
    "version": 3
   },
   "file_extension": ".py",
   "mimetype": "text/x-python",
   "name": "python",
   "nbconvert_exporter": "python",
   "pygments_lexer": "ipython3",
   "version": "3.7.3"
  }
 },
 "nbformat": 4,
 "nbformat_minor": 2
}
