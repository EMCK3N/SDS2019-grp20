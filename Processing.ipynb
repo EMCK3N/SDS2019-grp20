{
 "cells": [
  {
   "cell_type": "code",
   "execution_count": 11,
   "metadata": {},
   "outputs": [],
   "source": [
    "import pandas as pd\n",
    "import matplotlib\n",
    "import numpy as np\n",
    "# Import data \n",
    "data = pd.read_csv(\"Tripadvisordata.csv\")\n",
    "\n",
    "# edit missing data\n",
    "data[\"Price class\"] = data[\"Price class\"].replace(np.nan, '--$$$$$$', regex=True)\n",
    "\n"
   ]
  },
  {
   "cell_type": "code",
   "execution_count": 12,
   "metadata": {},
   "outputs": [],
   "source": [
    "# Translate the price class, to a numeric value\n",
    "\n",
    "string = data[\"Price class\"]\n",
    "string = [word.replace('nan','--$$$$$$') for word in string]\n",
    "\n",
    "# find indexnumbers for more places with missing with missing data\n",
    "list = []\n",
    "for i in range(len(string)):    \n",
    "    if \"$\" not in string[i]:\n",
    "        list.append(i)\n",
    "\n",
    "for i in list: \n",
    "    string[i] = '--$$$$$$'\n",
    "\n",
    "    "
   ]
  },
  {
   "cell_type": "code",
   "execution_count": 13,
   "metadata": {},
   "outputs": [
    {
     "name": "stdout",
     "output_type": "stream",
     "text": [
      "2000\n"
     ]
    }
   ],
   "source": [
    "#control everything is still here\n",
    "print(len(string))\n",
    "\n",
    "# Filter the \"-\"'s      \n",
    "new = []\n",
    "for i in string:\n",
    "    x = i.split('--')[1]\n",
    "    new.append(x)\n",
    "\n",
    "\n",
    "data[\"New Price class\"] = new\n",
    "\n",
    "#the tranlating keys\n",
    "dollarsign = [\"$\", \"$-$$\", \"$$\", \"$$-$$$\", \"$$$\", \"$$$-$$$$\",\"$$$$\", \"$$$$-$$$$$\", \"$$$$$\", '$$$$$$']\n",
    "values = [1, 1.5, 2, 2.5, 3, 3.5, 4, 4.5, 5, 'null']\n",
    "\n",
    "# make dataframe\n",
    "d = {'New Price class': [\"$\", \"$-$$\", \"$$\", \"$$-$$$\", \"$$$\", \"$$$-$$$$\",\"$$$$\", \"$$$$-$$$$$\", \"$$$$$\", '$$$$$$'], 'Price Class Numeric': [1, 1.5, 2, 2.5, 3, 3.5, 4, 4.5, 5, 99]}\n",
    "translate_priceclass = pd.DataFrame(d)\n",
    "\n"
   ]
  },
  {
   "cell_type": "code",
   "execution_count": 14,
   "metadata": {},
   "outputs": [],
   "source": [
    "#join to dataframe\n",
    "new_data = pd.merge(data, translate_priceclass, on='New Price class', how='left')\n"
   ]
  },
  {
   "cell_type": "code",
   "execution_count": 15,
   "metadata": {},
   "outputs": [],
   "source": [
    "# Remove the word \"anmeldelser\" from \"number of reviews column\"\n",
    "\n",
    "data[\"Number of reviews\"] = data[\"Number of reviews\"].replace(\" anmeldelser\", '', regex=True)\n"
   ]
  },
  {
   "cell_type": "code",
   "execution_count": 16,
   "metadata": {},
   "outputs": [],
   "source": [
    "# Send to new csv\n",
    "\n",
    "new_data.to_csv(\"Tripadvisordata_red.csv\")\n"
   ]
  },
  {
   "cell_type": "markdown",
   "metadata": {},
   "source": [
    "## Ideer \n",
    "\n",
    "Afstand/vurderings scatter (evt binned)\n",
    "Afstand/kvalitet scatter (evt binned)\n",
    "Afstand/service scatter (evt binned)\n",
    "Pris/kvalitet plot\n",
    "\n",
    "Vurdering/antal anmeldelser\n",
    "\n",
    "Priskort\n",
    "Kvallitetskort\n"
   ]
  },
  {
   "cell_type": "code",
   "execution_count": null,
   "metadata": {},
   "outputs": [],
   "source": []
  }
 ],
 "metadata": {
  "kernelspec": {
   "display_name": "Python 3",
   "language": "python",
   "name": "python3"
  },
  "language_info": {
   "codemirror_mode": {
    "name": "ipython",
    "version": 3
   },
   "file_extension": ".py",
   "mimetype": "text/x-python",
   "name": "python",
   "nbconvert_exporter": "python",
   "pygments_lexer": "ipython3",
   "version": "3.7.3"
  }
 },
 "nbformat": 4,
 "nbformat_minor": 2
}
