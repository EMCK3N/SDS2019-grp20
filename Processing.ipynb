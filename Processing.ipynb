{
 "cells": [
  {
   "cell_type": "code",
   "execution_count": 139,
   "metadata": {},
   "outputs": [],
   "source": [
    "import pandas as pd\n",
    "import matplotlib\n",
    "# Import data \n",
    "#data = pd.read_excel(\"data cleaned.xlsx\", sheet_name=\"Sheet1\")\n"
   ]
  },
  {
   "cell_type": "code",
   "execution_count": null,
   "metadata": {},
   "outputs": [],
   "source": []
  },
  {
   "cell_type": "code",
   "execution_count": 141,
   "metadata": {},
   "outputs": [
    {
     "name": "stdout",
     "output_type": "stream",
     "text": [
      "100\n"
     ]
    }
   ],
   "source": [
    "dollarsigns = list(data[\"Price class\"])\n",
    "print(len(dollarsigns))\n",
    "\n",
    "new = []\n",
    "for i in string:\n",
    "    x = i.split('--')[1]\n",
    "    new.append(x)\n",
    "\n",
    "data[\"New Price class\"] = new\n",
    "\n",
    "dollarsign = [\"$\", \"$-$$\", \"$$\", \"$$-$$$\", \"$$$\", \"$$$-$$$$\",\"$$$$\", \"$$$$-$$$$$\", \"$$$$$\"]\n",
    "values = [1, 1.5, 2, 2.5, 3, 3.5, 4, 4.5, 5]\n",
    "translate_priceclass = pd.DataFrame(list(zip(dollarsign,values)), columns=['Dollarsign', 'Priceclass_num'])\n",
    "\n",
    "\n",
    "data['Priceclass_num'] = data['New Price class'].map(translate_priceclass.set_index('Dollarsign')['Priceclass_num'])\n",
    "\n"
   ]
  },
  {
   "cell_type": "code",
   "execution_count": 142,
   "metadata": {},
   "outputs": [
    {
     "name": "stdout",
     "output_type": "stream",
     "text": [
      "       Ranking on list  Distance from Kgs. Nytorv    God pris         Mad  \\\n",
      "count       100.000000                 100.000000  100.000000  100.000000   \n",
      "mean         57.260000                1538.237450   43.800000   45.850000   \n",
      "std          81.437169                1764.037244    2.369844    2.467465   \n",
      "min           1.000000                 121.988593   40.000000   40.000000   \n",
      "25%          20.750000                 539.603586   40.000000   45.000000   \n",
      "50%          47.500000                1133.651727   45.000000   45.000000   \n",
      "75%          73.250000                2011.751522   45.000000   45.000000   \n",
      "max         715.000000               15868.985808   50.000000   50.000000   \n",
      "\n",
      "          Service   Stemning  Priceclass_num  \n",
      "count  100.000000  54.000000      100.000000  \n",
      "mean    45.850000  44.259259        2.770000  \n",
      "std      3.019716   2.458602        0.888819  \n",
      "min     35.000000  40.000000        1.000000  \n",
      "25%     45.000000  45.000000        2.500000  \n",
      "50%     45.000000  45.000000        2.500000  \n",
      "75%     50.000000  45.000000        4.000000  \n",
      "max     50.000000  50.000000        4.000000  \n"
     ]
    }
   ],
   "source": [
    "# create summary table to get an overview of the data \n",
    "\n",
    "sum_tab = data.describe()\n",
    "pd.set_option('display.max_rows', 500)\n",
    "print(sum_tab)\n"
   ]
  },
  {
   "cell_type": "code",
   "execution_count": 150,
   "metadata": {},
   "outputs": [
    {
     "data": {
      "image/png": "[encoded data removed]",
      "text/plain": [
       "<Figure size 432x288 with 1 Axes>"
      ]
     },
     "metadata": {
      "needs_background": "light"
     },
     "output_type": "display_data"
    }
   ],
   "source": [
    "#Make scatterplots\n",
    "\n",
    "import numpy as np\n",
    "import matplotlib.pyplot as plt\n",
    "\n",
    "# Create data\n",
    "\n",
    "# Plot\n",
    "plt.scatter(data[\"Distance from Kgs. Nytorv\"], data[\"Priceclass_num\"], alpha=0.5)\n",
    "plt.title('Scatter plot pythonspot.com')\n",
    "plt.xlabel('x')\n",
    "plt.ylabel('y')\n",
    "plt.show()\n",
    "\n"
   ]
  },
  {
   "cell_type": "markdown",
   "metadata": {},
   "source": [
    "## Ideer \n",
    "\n",
    "Afstand/vurderings scatter (evt binned)\n",
    "Afstand/kvalitet scatter (evt binned)\n",
    "Afstand/service scatter (evt binned)\n",
    "Pris/kvalitet plot\n",
    "\n",
    "Vurdering/antal anmeldelser\n",
    "\n",
    "Priskort\n",
    "Kvallitetskort\n"
   ]
  },
  {
   "cell_type": "code",
   "execution_count": null,
   "metadata": {},
   "outputs": [],
   "source": []
  }
 ],
 "metadata": {
  "kernelspec": {
   "display_name": "Python 3",
   "language": "python",
   "name": "python3"
  },
  "language_info": {
   "codemirror_mode": {
    "name": "ipython",
    "version": 3
   },
   "file_extension": ".py",
   "mimetype": "text/x-python",
   "name": "python",
   "nbconvert_exporter": "python",
   "pygments_lexer": "ipython3",
   "version": "3.7.3"
  }
 },
 "nbformat": 4,
 "nbformat_minor": 2
}
