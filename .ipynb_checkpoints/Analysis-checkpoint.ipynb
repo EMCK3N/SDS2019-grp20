{
 "cells": [
  {
   "cell_type": "code",
   "execution_count": 154,
   "metadata": {},
   "outputs": [
    {
     "name": "stderr",
     "output_type": "stream",
     "text": [
      "C:\\Users\\sofie\\Anaconda3\\lib\\site-packages\\ipykernel_launcher.py:13: SettingWithCopyWarning: \n",
      "A value is trying to be set on a copy of a slice from a DataFrame\n",
      "\n",
      "See the caveats in the documentation: http://pandas.pydata.org/pandas-docs/stable/indexing.html#indexing-view-versus-copy\n",
      "  del sys.path[0]\n"
     ]
    }
   ],
   "source": [
    "import pandas as pd\n",
    "data = pd.read_csv(\"Tripadvisordata_red.csv\")\n",
    "\n",
    "data= data.round(2)\n",
    "\n",
    "list = []\n",
    "for i in range(len(data[\"Type of food\"])):  \n",
    "    if \"<div\" in str(data[\"Type of food\"][i]):\n",
    "        list.append(i)\n",
    "    \n",
    "#print(list)\n",
    "for i in list:\n",
    "    data[\"Type of food\"][i] = \"Missing\"\n",
    "\n",
    "\n",
    "# set color \n",
    "green_color = \"#00AF87\""
   ]
  },
  {
   "cell_type": "code",
   "execution_count": 155,
   "metadata": {},
   "outputs": [
    {
     "name": "stdout",
     "output_type": "stream",
     "text": [
      "{'Centraleuropæisk', nan, 'Europæisk', 'Delikatesseforretning', 'Bar', 'Skandinavisk', 'Brasiliansk', 'Vietnamesisk', 'Gademad', 'Arabisk', 'Egyptisk', 'Tyrkisk', 'Nepalesisk', 'Dansk', 'Caribisk', 'Asiatisk', 'Libanesisk', 'Ølpub', 'Belgisk', 'Missing', 'Sund', 'Grill', 'Moderne', 'Fisk og skaldyr', 'Sushi', 'Fusion', 'Mexicansk', 'Fransk', 'Græsk', 'New Zealand', 'Fastfood', 'Centralitaliensk', 'Vinstue', 'Indisk', 'Kinesisk', 'Pizza', 'Steakhouse', 'Indonesisk', 'Tysk', 'International', 'Middelhavsområdet', 'Spisested', 'Thai', 'Café', 'Marokkansk', 'Italiensk', 'Spansk', 'Mellemøstlig', 'Afrikansk', 'Hawaiiansk', 'Argentinsk', 'Amerikansk', 'Japansk', 'Latinamerikansk'}\n"
     ]
    }
   ],
   "source": [
    "print(set(data[\"Type of food\"]))\n"
   ]
  },
  {
   "cell_type": "code",
   "execution_count": 156,
   "metadata": {},
   "outputs": [],
   "source": [
    "sum_tab = data.describe()\n",
    "sum_tab.to_csv(\"Summary_tab.csv\")"
   ]
  },
  {
   "cell_type": "code",
   "execution_count": 157,
   "metadata": {},
   "outputs": [],
   "source": [
    "import matplotlib.pyplot as plt\n",
    "\n",
    "mod_df = data \n",
    "\n",
    "# Obs filter restaurants more than 15 km from Kgs. Nytorv\n",
    "mod_df = mod_df.drop(mod_df[mod_df['Distance from Kgs. Nytorv'] > 15000 ].index , inplace=True)\n",
    "\n",
    "#mod_df.describe()\n",
    "# OBS kør den forfra hvis du vil ændre i noget. \n"
   ]
  },
  {
   "cell_type": "code",
   "execution_count": 158,
   "metadata": {},
   "outputs": [
    {
     "ename": "AttributeError",
     "evalue": "'NoneType' object has no attribute 'groupby'",
     "output_type": "error",
     "traceback": [
      "\u001b[1;31m---------------------------------------------------------------------------\u001b[0m",
      "\u001b[1;31mAttributeError\u001b[0m                            Traceback (most recent call last)",
      "\u001b[1;32m<ipython-input-158-e8f072a8c422>\u001b[0m in \u001b[0;36m<module>\u001b[1;34m()\u001b[0m\n\u001b[0;32m      1\u001b[0m \u001b[1;31m# Mean ratings grouped by type of food\u001b[0m\u001b[1;33m\u001b[0m\u001b[1;33m\u001b[0m\u001b[1;33m\u001b[0m\u001b[0m\n\u001b[1;32m----> 2\u001b[1;33m \u001b[0mbar_df\u001b[0m \u001b[1;33m=\u001b[0m \u001b[0mmod_df\u001b[0m\u001b[1;33m.\u001b[0m\u001b[0mgroupby\u001b[0m\u001b[1;33m(\u001b[0m\u001b[1;33m[\u001b[0m\u001b[1;34m'Type of food'\u001b[0m\u001b[1;33m]\u001b[0m\u001b[1;33m)\u001b[0m\u001b[1;33m[\u001b[0m\u001b[1;34m'Main rating'\u001b[0m\u001b[1;33m]\u001b[0m\u001b[1;33m.\u001b[0m\u001b[0mmean\u001b[0m\u001b[1;33m(\u001b[0m\u001b[1;33m)\u001b[0m\u001b[1;33m\u001b[0m\u001b[1;33m\u001b[0m\u001b[0m\n\u001b[0m\u001b[0;32m      3\u001b[0m \u001b[0mbar_df\u001b[0m \u001b[1;33m=\u001b[0m \u001b[0mpd\u001b[0m\u001b[1;33m.\u001b[0m\u001b[0mDataFrame\u001b[0m\u001b[1;33m(\u001b[0m\u001b[0mbar_df\u001b[0m\u001b[1;33m)\u001b[0m\u001b[1;33m\u001b[0m\u001b[1;33m\u001b[0m\u001b[0m\n\u001b[0;32m      4\u001b[0m \u001b[1;33m\u001b[0m\u001b[0m\n\u001b[0;32m      5\u001b[0m \u001b[1;31m#bar_df.columns = ['Type of food', \"Mean rating\"]\u001b[0m\u001b[1;33m\u001b[0m\u001b[1;33m\u001b[0m\u001b[1;33m\u001b[0m\u001b[0m\n",
      "\u001b[1;31mAttributeError\u001b[0m: 'NoneType' object has no attribute 'groupby'"
     ]
    }
   ],
   "source": [
    "# Mean ratings grouped by type of food\n",
    "bar_df = mod_df.groupby(['Type of food'])['Main rating'].mean()\n",
    "bar_df = pd.DataFrame(bar_df)\n",
    "\n",
    "#bar_df.columns = ['Type of food', \"Mean rating\"]\n",
    "bar_df2 = mod_df.groupby(['Type of food'])['Main rating'].count()\n",
    "bar_df2 = pd.DataFrame(bar_df2)\n",
    "\n",
    "bar_df3 = pd.merge(bar_df, bar_df2, on='Type of food', how='left')\n",
    "bar_df3 = pd.DataFrame(bar_df3)\n",
    "\n",
    "bar_df3.columns = [\"Mean rating\", \"Number of restaurants\"]\n",
    "bar_df3.reset_index(inplace=True)\n",
    "\n",
    "# Only if more than 10 restaurants\n",
    "bar_df4 = bar_df3.loc[bar_df3['Number of restaurants'] > 10] \n",
    "bar_df4 = bar_df4.loc[bar_df3['Type of food'] != \"Missing\"] \n",
    "\n",
    "bar_df4 = bar_df4.sort_values(by=[\"Mean rating\"])\n",
    "bar_df4"
   ]
  },
  {
   "cell_type": "code",
   "execution_count": null,
   "metadata": {},
   "outputs": [],
   "source": [
    "import matplotlib.pyplot as plt\n",
    "import numpy as np\n",
    "\n",
    "plt.rcdefaults()\n",
    "fig, ax = plt.subplots()\n",
    "plt.style.use('ggplot')\n",
    "\n",
    "# Example data\n",
    "rests = [bar_df4[\"Mean rating\"]]\n",
    "y_pos = bar_df4[\"Type of food\"]\n",
    "performance = bar_df4[\"Mean rating\"]\n",
    "\n",
    "ax.barh(y_pos, performance, align='center', color = green_color)\n",
    "#ax.set_yticks(y_pos)\n",
    "#ax.set_yticklabels(\"Type of food\")\n",
    "#ax.invert_yaxis()  # labels read top-to-bottom\n",
    "ax.set_xlabel('Mean rating')\n",
    "ax.set_xlim(3,5)\n",
    "#ax.set_title('How fast do you want to go today?')\n",
    "label = [bar_df4[\"Mean rating\"]]\n",
    "\n",
    "\n"
   ]
  },
  {
   "cell_type": "code",
   "execution_count": null,
   "metadata": {},
   "outputs": [],
   "source": [
    "%matplotlib inline\n",
    "plt.style.use('seaborn')\n",
    "\n",
    "mod_df[\"Reverse ranking\"] = mod_df[\"Ranking on list\"]*(-1)\n",
    "\n",
    "mod_df.plot(x='Distance from Kgs. Nytorv', y='Reverse ranking', kind='scatter')\n",
    "plt.show()"
   ]
  },
  {
   "cell_type": "code",
   "execution_count": null,
   "metadata": {},
   "outputs": [],
   "source": [
    "\n",
    "%matplotlib inline\n",
    "plt.style.use('seaborn')\n",
    "\n",
    "#mod_df.plot(x='Distance from Kgs. Nytorv', y='Service', kind='scatter')\n",
    "#plt.show()"
   ]
  },
  {
   "cell_type": "code",
   "execution_count": null,
   "metadata": {},
   "outputs": [],
   "source": []
  },
  {
   "cell_type": "code",
   "execution_count": null,
   "metadata": {},
   "outputs": [],
   "source": []
  },
  {
   "cell_type": "code",
   "execution_count": null,
   "metadata": {},
   "outputs": [],
   "source": []
  }
 ],
 "metadata": {
  "kernelspec": {
   "display_name": "Python 3",
   "language": "python",
   "name": "python3"
  },
  "language_info": {
   "codemirror_mode": {
    "name": "ipython",
    "version": 3
   },
   "file_extension": ".py",
   "mimetype": "text/x-python",
   "name": "python",
   "nbconvert_exporter": "python",
   "pygments_lexer": "ipython3",
   "version": "3.7.3"
  }
 },
 "nbformat": 4,
 "nbformat_minor": 2
}
