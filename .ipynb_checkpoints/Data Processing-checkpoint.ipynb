{
 "cells": [
  {
   "cell_type": "markdown",
   "metadata": {},
   "source": [
    "## Importing packages and attributes"
   ]
  },
  {
   "cell_type": "code",
   "execution_count": 4,
   "metadata": {},
   "outputs": [],
   "source": [
    "import pandas as pd\n",
    "import numpy as np\n",
    "import re\n",
    "from geopy.distance import great_circle"
   ]
  },
  {
   "cell_type": "markdown",
   "metadata": {},
   "source": [
    "## Data Processing"
   ]
  },
  {
   "cell_type": "markdown",
   "metadata": {},
   "source": [
    "In this notebook we will process the raw data scraped in our *`TripAdvisor_scraper.ipynb`* We start by loading the CSV file, we created."
   ]
  },
  {
   "cell_type": "code",
   "execution_count": 5,
   "metadata": {},
   "outputs": [],
   "source": [
    "trip_df = pd.read_csv(\"Tripadvisordata_raw.csv\")\n",
    "#trip_df.tail() # prints to check if the read went well"
   ]
  },
  {
   "cell_type": "markdown",
   "metadata": {},
   "source": [
    "### Restructuring data"
   ]
  },
  {
   "cell_type": "code",
   "execution_count": 6,
   "metadata": {},
   "outputs": [],
   "source": [
    "trip_df = trip_df.replace(regex=['&amp;'], value='&')\n",
    "trip_df['Main rating'] = trip_df['Main rating'].replace(regex=[','], value='.')\n",
    "trip_df['Good price'] = trip_df['God pris'] / 10\n",
    "trip_df['Food'] = trip_df['Mad'] / 10\n",
    "trip_df['Service'] = trip_df['Service'] / 10\n",
    "trip_df['Atmosphere'] = trip_df['Stemning'] / 10\n",
    "trip_df = trip_df[['Restaurant', 'Main rating', 'Ranking on list', 'Price range', 'Price class', 'Location', 'Good price', 'Food', 'Service', 'Atmosphere', 'Type of food', 'Number of reviews', 'Address', 'Type of food link']]"
   ]
  },
  {
   "cell_type": "code",
   "execution_count": 7,
   "metadata": {},
   "outputs": [],
   "source": [
    "# edit missing data\n",
    "trip_df[\"Price class\"] = trip_df[\"Price class\"].replace(np.nan, '--$$$$$$', regex=True)\n",
    "\n",
    "# Translate the price class, to a numeric value\n",
    "\n",
    "string = trip_df[\"Price class\"]\n",
    "string = [word.replace('nan','--$$$$$$') for word in string]\n",
    "\n",
    "# find indexnumbers for more places with missing with missing data\n",
    "list = []\n",
    "for i in range(len(string)):    \n",
    "    if \"$\" not in string[i]:\n",
    "        list.append(i)\n",
    "\n",
    "for i in list: \n",
    "    string[i] = '--$$$$$$'"
   ]
  },
  {
   "cell_type": "code",
   "execution_count": 8,
   "metadata": {},
   "outputs": [],
   "source": [
    "# Filter the \"-\"'s      \n",
    "new = []\n",
    "for i in string:\n",
    "    x = i.split('--')[1]\n",
    "    new.append(x)\n",
    "\n",
    "\n",
    "trip_df[\"New price class\"] = new\n",
    "\n",
    "#the tranlating keys\n",
    "dollarsign = [\"$\", \"$-$$\", \"$$\", \"$$-$$$\", \"$$$\", \"$$$-$$$$\",\"$$$$\", \"$$$$-$$$$$\", \"$$$$$\", '$$$$$$']\n",
    "values = [1, 1, 1, 2, 2, 2, 3, 3, 3, 'null']\n",
    "\n",
    "# make dataframe\n",
    "dict_ = {'New price class': [\"$\", \"$-$$\", \"$$\", \"$$-$$$\", \"$$$\", \"$$$-$$$$\",\"$$$$\", \"$$$$-$$$$$\", \"$$$$$\", '$$$$$$'], 'Price class numeric': [1, 1, 1, 2, 2, 2, 3, 3, 3, 99]}\n",
    "translate_priceclass = pd.DataFrame(dict_)\n",
    "\n",
    "new_trip_df = pd.merge(trip_df, translate_priceclass, on='New price class', how='left')"
   ]
  },
  {
   "cell_type": "code",
   "execution_count": 9,
   "metadata": {},
   "outputs": [],
   "source": [
    "# Make our own ranking system\n",
    "new_trip_df[\"Reverse ranking on list\"] = (-1)*new_trip_df[\"Ranking on list\"]\n",
    "\n",
    "# sort on rating, ranking on list and number of reviews\n",
    "new_trip_df = new_trip_df.sort_values(by=[\"Main rating\", \"Reverse ranking on list\", \"Number of reviews\"])\n",
    "\n",
    "# Add ranking\n",
    "new_trip_df[\"Full ranking\"] = range(1,len(new_trip_df[\"Number of reviews\"])+1)"
   ]
  },
  {
   "cell_type": "code",
   "execution_count": 10,
   "metadata": {},
   "outputs": [],
   "source": [
    "#køkken_list = ['Café', 'Afrikansk','Amerikansk','Arabisk','Argentinsk','Armensk','Aserbajdsjansk','Asiatisk','Bar','Belgisk','Brasiliansk','Britisk','Cajun og kreolsk','Cambodjansk','Canadisk','Caribisk','Centralasiatisk','Centraleuropæisk','Centralitaliensk','Dansk','Delikatesseforretning','Egyptisk','Etiopisk','Europæisk','Fastfood','Filippinsk','Fisk og skaldyr','Fra Lazio','Fra Shanghai','Fransk','Fusion','Gademad','Gastropub','Grill','Grillmad','Græsk','Hawaiiansk','Hollandsk','Hongkong','Indiansk','Indisk','Indonesisk','International','Irsk','Israelsk','Italiensk','Japansk','Kantonesisk','Kinesisk','Koreansk','Kroatisk','Latinamerikansk','Libanesisk','Malaysisk','Marokkansk','Mellemamerikansk','Mellemøstlig','Mexicansk','Middelhavsområdet','Moderne','Mongolsk','Nepalesisk','New Zealand','Norditaliensk','Norsk','Pakistansk','Persisk','Peruviansk','Pizza','Portugisisk''Pub','Russisk','Schweizisk','Siciliansk','Singaporeansk','Skandinavisk','Spansk','Specialiteter fra Beijing','Spisested','Steakhouse','Sund','Supper','Sushi','Svensk','Sydamerikansk','Syditaliensk','Szechuan','Taiwansk','Thai','Tibetansk','Toscansk','Tyrkisk','Tysk','Venezuelansk','Vietnamesisk','Vinstue','Xinjiang','Ølpub','Østeuropæisk','Østrigsk']\n",
    "#most_pop = ['Café', \"Italiensk\", \"Pizza\", \"Indisk\", \"Fisk og skaldyr\", \"Thai\", \"Steakhouse\", \"Mexikansk\"]\n",
    "#\n",
    "#link_list = new_trip_df[\"Type of food link\"]\n",
    "#link_df = pd.DataFrame(link_list)\n",
    "#\n",
    "#food_list_1 = [] #list of list over kitchens\n",
    "#for link in food_list_1:\n",
    "#    food_list_1.append([x for x in køkken_list if x in link])\n",
    "#    \n",
    "#food_list_2 = []\n",
    "#for link in food_list_1:\n",
    "#    food_list_2.append([x for x in most_pop if x in link])\n",
    "#food_list_2\n",
    "#\n",
    "#new_trip_df[\"Pop kitchen\"] = food_list_1"
   ]
  },
  {
   "cell_type": "code",
   "execution_count": 11,
   "metadata": {},
   "outputs": [
    {
     "ename": "TypeError",
     "evalue": "argument of type 'float' is not iterable",
     "output_type": "error",
     "traceback": [
      "\u001b[1;31m---------------------------------------------------------------------------\u001b[0m",
      "\u001b[1;31mTypeError\u001b[0m                                 Traceback (most recent call last)",
      "\u001b[1;32m<ipython-input-11-411e7deb552f>\u001b[0m in \u001b[0;36m<module>\u001b[1;34m()\u001b[0m\n\u001b[0;32m      7\u001b[0m \u001b[0mlist_test\u001b[0m \u001b[1;33m=\u001b[0m \u001b[1;33m[\u001b[0m\u001b[1;33m]\u001b[0m \u001b[1;31m#list of list over kitchens\u001b[0m\u001b[1;33m\u001b[0m\u001b[1;33m\u001b[0m\u001b[0m\n\u001b[0;32m      8\u001b[0m \u001b[1;32mfor\u001b[0m \u001b[0mlink\u001b[0m \u001b[1;32min\u001b[0m \u001b[0mlink_list\u001b[0m\u001b[1;33m:\u001b[0m\u001b[1;33m\u001b[0m\u001b[1;33m\u001b[0m\u001b[0m\n\u001b[1;32m----> 9\u001b[1;33m     \u001b[0mlist_test\u001b[0m\u001b[1;33m.\u001b[0m\u001b[0mappend\u001b[0m\u001b[1;33m(\u001b[0m\u001b[1;33m[\u001b[0m\u001b[0mx\u001b[0m \u001b[1;32mfor\u001b[0m \u001b[0mx\u001b[0m \u001b[1;32min\u001b[0m \u001b[0mkøkken_list\u001b[0m \u001b[1;32mif\u001b[0m \u001b[0mx\u001b[0m \u001b[1;32min\u001b[0m \u001b[0mlink\u001b[0m\u001b[1;33m]\u001b[0m\u001b[1;33m)\u001b[0m\u001b[1;33m\u001b[0m\u001b[1;33m\u001b[0m\u001b[0m\n\u001b[0m\u001b[0;32m     10\u001b[0m \u001b[1;33m\u001b[0m\u001b[0m\n\u001b[0;32m     11\u001b[0m \u001b[0mlink_test2\u001b[0m \u001b[1;33m=\u001b[0m \u001b[1;33m[\u001b[0m\u001b[1;33m]\u001b[0m\u001b[1;33m\u001b[0m\u001b[1;33m\u001b[0m\u001b[0m\n",
      "\u001b[1;32m<ipython-input-11-411e7deb552f>\u001b[0m in \u001b[0;36m<listcomp>\u001b[1;34m(.0)\u001b[0m\n\u001b[0;32m      7\u001b[0m \u001b[0mlist_test\u001b[0m \u001b[1;33m=\u001b[0m \u001b[1;33m[\u001b[0m\u001b[1;33m]\u001b[0m \u001b[1;31m#list of list over kitchens\u001b[0m\u001b[1;33m\u001b[0m\u001b[1;33m\u001b[0m\u001b[0m\n\u001b[0;32m      8\u001b[0m \u001b[1;32mfor\u001b[0m \u001b[0mlink\u001b[0m \u001b[1;32min\u001b[0m \u001b[0mlink_list\u001b[0m\u001b[1;33m:\u001b[0m\u001b[1;33m\u001b[0m\u001b[1;33m\u001b[0m\u001b[0m\n\u001b[1;32m----> 9\u001b[1;33m     \u001b[0mlist_test\u001b[0m\u001b[1;33m.\u001b[0m\u001b[0mappend\u001b[0m\u001b[1;33m(\u001b[0m\u001b[1;33m[\u001b[0m\u001b[0mx\u001b[0m \u001b[1;32mfor\u001b[0m \u001b[0mx\u001b[0m \u001b[1;32min\u001b[0m \u001b[0mkøkken_list\u001b[0m \u001b[1;32mif\u001b[0m \u001b[0mx\u001b[0m \u001b[1;32min\u001b[0m \u001b[0mlink\u001b[0m\u001b[1;33m]\u001b[0m\u001b[1;33m)\u001b[0m\u001b[1;33m\u001b[0m\u001b[1;33m\u001b[0m\u001b[0m\n\u001b[0m\u001b[0;32m     10\u001b[0m \u001b[1;33m\u001b[0m\u001b[0m\n\u001b[0;32m     11\u001b[0m \u001b[0mlink_test2\u001b[0m \u001b[1;33m=\u001b[0m \u001b[1;33m[\u001b[0m\u001b[1;33m]\u001b[0m\u001b[1;33m\u001b[0m\u001b[1;33m\u001b[0m\u001b[0m\n",
      "\u001b[1;31mTypeError\u001b[0m: argument of type 'float' is not iterable"
     ]
    }
   ],
   "source": [
    "køkken_list = ['Café', 'Afrikansk','Amerikansk','Arabisk','Argentinsk','Armensk','Aserbajdsjansk','Asiatisk','Bar','Belgisk','Brasiliansk','Britisk','Cajun og kreolsk','Cambodjansk','Canadisk','Caribisk','Centralasiatisk','Centraleuropæisk','Centralitaliensk','Dansk','Delikatesseforretning','Egyptisk','Etiopisk','Europæisk','Fastfood','Filippinsk','Fisk og skaldyr','Fra Lazio','Fra Shanghai','Fransk','Fusion','Gademad','Gastropub','Grill','Grillmad','Græsk','Hawaiiansk','Hollandsk','Hongkong','Indiansk','Indisk','Indonesisk','International','Irsk','Israelsk','Italiensk','Japansk','Kantonesisk','Kinesisk','Koreansk','Kroatisk','Latinamerikansk','Libanesisk','Malaysisk','Marokkansk','Mellemamerikansk','Mellemøstlig','Mexicansk','Middelhavsområdet','Moderne','Mongolsk','Nepalesisk','New Zealand','Norditaliensk','Norsk','Pakistansk','Persisk','Peruviansk','Pizza','Portugisisk''Pub','Russisk','Schweizisk','Siciliansk','Singaporeansk','Skandinavisk','Spansk','Specialiteter fra Beijing','Spisested','Steakhouse','Sund','Supper','Sushi','Svensk','Sydamerikansk','Syditaliensk','Szechuan','Taiwansk','Thai','Tibetansk','Toscansk','Tyrkisk','Tysk','Venezuelansk','Vietnamesisk','Vinstue','Xinjiang','Ølpub','Østeuropæisk','Østrigsk']\n",
    "most_pop = ['Café', \"Italiensk\", \"Pizza\", \"Indisk\", \"Fisk og skaldyr\", \"Thai\", \"Steakhouse\", \"Mexikansk\"] # gathered from TripAdvisor\n",
    "\n",
    "link_list = new_trip_df[\"Type of food link\"]\n",
    "link_df = pd.DataFrame(link_list)\n",
    "\n",
    "list_test = [] #list of list over kitchens\n",
    "for link in link_list:\n",
    "    list_test.append([x for x in køkken_list if x in link])\n",
    "    \n",
    "link_test2 = []\n",
    "for link in link_list:\n",
    "    link_test2.append([x for x in most_pop if x in link])\n",
    "link_test2\n",
    "\n",
    "new_trip_df[\"Pop kitchen\"] = link_test2"
   ]
  },
  {
   "cell_type": "markdown",
   "metadata": {},
   "source": [
    "Calculatin distance to our measure point."
   ]
  },
  {
   "cell_type": "code",
   "execution_count": 12,
   "metadata": {},
   "outputs": [],
   "source": [
    "distance_list = []\n",
    "Kgs_Nytorv = '55.679977,12.5841893' #longitude and latitude for Kongens Nytorv\n",
    "\n",
    "#calculating distance from nytorv to the coordinates in the list\n",
    "def distance(x):\n",
    "    Start = new_trip_df[\"Location\"][x]\n",
    "    Stop = Kgs_Nytorv\n",
    "    distance_list.append(great_circle(Start, Stop).meters)\n",
    "    \n",
    "for x in trip_df.index:\n",
    "    distance(x)\n",
    "    \n",
    "#appending to df \n",
    "new_trip_df[\"Distance from Kgs. Nytorv (m)\"] = distance_list \n",
    "new_trip_df['Distance from Kgs. Nytorv (m)'] = new_trip_df['Distance from Kgs. Nytorv (m)'].round()"
   ]
  },
  {
   "cell_type": "code",
   "execution_count": 13,
   "metadata": {},
   "outputs": [],
   "source": [
    "new_trip_df['Postal code'] = [str(x).split('København')[-1].split('Danmark')[0] for x in new_trip_df['Address']]"
   ]
  },
  {
   "cell_type": "code",
   "execution_count": 14,
   "metadata": {},
   "outputs": [],
   "source": [
    "#trip_df = trip_df.sort_values(by='Ranking on list', ascending=True)\n",
    "new_trip_df.to_csv(\"Tripadvisordata_final.csv\", index=False)\n"
   ]
  },
  {
   "cell_type": "code",
   "execution_count": null,
   "metadata": {},
   "outputs": [],
   "source": []
  }
 ],
 "metadata": {
  "kernelspec": {
   "display_name": "Python 3",
   "language": "python",
   "name": "python3"
  },
  "language_info": {
   "codemirror_mode": {
    "name": "ipython",
    "version": 3
   },
   "file_extension": ".py",
   "mimetype": "text/x-python",
   "name": "python",
   "nbconvert_exporter": "python",
   "pygments_lexer": "ipython3",
   "version": "3.7.3"
  }
 },
 "nbformat": 4,
 "nbformat_minor": 2
}
