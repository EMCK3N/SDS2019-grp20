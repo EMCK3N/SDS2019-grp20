{
 "cells": [
  {
   "cell_type": "code",
   "execution_count": 1,
   "metadata": {},
   "outputs": [],
   "source": [
    "import pandas as pd\n",
    "import numpy as np\n",
    "from geopy.distance import great_circle"
   ]
  },
  {
   "cell_type": "code",
   "execution_count": 9,
   "metadata": {},
   "outputs": [
    {
     "name": "stdout",
     "output_type": "stream",
     "text": [
      "        long        lat  dist_from_nytorv\n",
      "0  12.613490  56.036201      39995.062061\n",
      "1  12.571635  55.683191        673.625839\n"
     ]
    },
    {
     "data": {
      "text/plain": [
       "39995.0620606769"
      ]
     },
     "execution_count": 9,
     "metadata": {},
     "output_type": "execute_result"
    }
   ],
   "source": [
    "#skal med:\n",
    "#----------------------------------------------------------------------------------------\n",
    "from geopy.distance import great_circle\n",
    "\n",
    "nytorv = (55.677220,12.573450) #longitude and latitude for Kongens Nytorv\n",
    "\n",
    "\n",
    "#calculating distance from nytorv to the coordinates in the list\n",
    "def distance (row):\n",
    "    start = (Location)   #row['lat'], row['long']\n",
    "    stop = (nytorv)\n",
    "    return great_circle(start, stop).meters\n",
    "\n",
    "#adding the distance to the dataframe as a new column\n",
    "ratings_df['dist_from_nytorv'] = df.apply (lambda row: distance (row),axis=1)   \n",
    "\n",
    "\n",
    "#---------------------------------------------------------------------------------------\n",
    "\n",
    "#skal ikke med i den endelige notebook:\n",
    "#long lat for helsingør and nørreport, as a test dataframe for dist calc.:\n",
    "long = [12.613490,12.571635]\n",
    "lat = [56.036201,55.683191]\n",
    "\n",
    "\n",
    "df = pd.DataFrame(list(zip(long, lat)), \n",
    "               columns =['long', 'lat'])\n",
    "\n",
    "helsingør = (56.036201,12.613490)\n",
    "print(df)\n",
    "great_circle(nytorv,helsingør).meters"
   ]
  },
  {
   "cell_type": "code",
   "execution_count": null,
   "metadata": {},
   "outputs": [],
   "source": []
  }
 ],
 "metadata": {
  "kernelspec": {
   "display_name": "Python 3",
   "language": "python",
   "name": "python3"
  },
  "language_info": {
   "codemirror_mode": {
    "name": "ipython",
    "version": 3
   },
   "file_extension": ".py",
   "mimetype": "text/x-python",
   "name": "python",
   "nbconvert_exporter": "python",
   "pygments_lexer": "ipython3",
   "version": "3.7.3"
  }
 },
 "nbformat": 4,
 "nbformat_minor": 2
}
