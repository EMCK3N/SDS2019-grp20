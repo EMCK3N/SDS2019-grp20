{
 "cells": [
  {
   "cell_type": "code",
   "execution_count": 35,
   "metadata": {},
   "outputs": [],
   "source": [
    "import bs4 as bs\n",
    "from urllib.request import urlopen as ureq\n",
    "from bs4 import BeautifulSoup as soup\n",
    "import pandas as pd\n",
    "import urllib.request\n",
    "import re"
   ]
  },
  {
   "cell_type": "code",
   "execution_count": 88,
   "metadata": {},
   "outputs": [],
   "source": [
    "url_trip = 'https://www.tripadvisor.dk/Restaurants-g189541-Copenhagen_Zealand.html#EATERY_OVERVIEW_BOX'\n",
    "\n",
    "trip = ureq(url_trip)\n",
    "trip_html = trip.read()\n",
    "trip.close()"
   ]
  },
  {
   "cell_type": "code",
   "execution_count": 89,
   "metadata": {},
   "outputs": [],
   "source": [
    "trip_soup = soup(trip_html, \"lxml\")"
   ]
  },
  {
   "cell_type": "code",
   "execution_count": 167,
   "metadata": {},
   "outputs": [],
   "source": [
    "# lister fra oversigten\n",
    "\n",
    "list_name_front = []\n",
    "list_bubble_front = []\n",
    "list_review_front = []\n",
    "list_priceclass_front = []"
   ]
  },
  {
   "cell_type": "code",
   "execution_count": 168,
   "metadata": {},
   "outputs": [
    {
     "name": "stdout",
     "output_type": "stream",
     "text": [
      "['The Modern', 'Grams Lækkerier', 'Restaurant Krebsegaarden', 'The Olive Kitchen & Bar', 'Søllerød Kro', 'Zahida at Kellerdirk', 'Pizzeria Mamemi & Wine Bar', 'The Pescatarian', 'Geranium', 'Café Komplet', 'Enomania', 'Marv & Ben', 'Banana Joe', 'Kokkeriet', 'Mielcke & Hurtigkarl', \"Husmann's Vinstue\", 'Restaurant leaven', 'Trattoria SUD', 'Basso København', 'Restaurant Schonnemann', 'BODIL - et spisested', 'Studio - The Standard', 'The Red Box', 'Trattoria l’Alba', 'Ché Fè', 'Restaurant Garden', 'Frederiks Have', 'Goomi', 'Feed Bistro', 'Restaurant Grønnegade', 'Souls']\n",
      "\n",
      "['4', '5', '5', '5', '5', '5', '5', '5', '4,5', '4,5', '4,5', '4,5', '4,5', '4,5', '4,5', '4,5', '4,5', '4,5', '4,5', '4,5', '4,5', '4,5', '4,5', '4,5', '4,5', '4,5', '4,5', '4,5', '4,5', '4,5', '4,5']\n",
      "\n",
      "['45', '718', '1.309', '2.129', '337', '876', '926', '194', '1.052', '345', '244', '636', '411', '768', '252', '253', '309', '304', '338', '161', '208', '452', '514', '173', '577', '133', '529', '271', '548', '524', '646']\n",
      "\n",
      "['$$ - $$$', '$', '$$$$', '$$ - $$$', '$$$$', '$$ - $$$', '$', '$$$$', '$$$$', '$$ - $$$', '$$ - $$$', '$$$$', '$', '$$$$', '$$$$', '$$ - $$$', '$$$$', '$$ - $$$', '$$ - $$$', '$$ - $$$', '$$ - $$$', '$$$$', '$$ - $$$', '$$ - $$$', '$$ - $$$', '$$ - $$$', '$$$$', '$$ - $$$', '$$ - $$$', '$$$$', '$$ - $$$']\n"
     ]
    }
   ],
   "source": [
    "def get_info(link):\n",
    "    response = urllib.request.urlopen(link)\n",
    "    for items in trip_soup.find_all(class_=\"shortSellDetails\"):\n",
    "        name = items.find(class_=\"property_title\").get_text(strip=True)\n",
    "        list_name_front.append(name)\n",
    "        \n",
    "        bubble = items.find(class_=\"ui_bubble_rating\").get(\"alt\")\n",
    "        list_bubble_front.append(re.sub('[^0-9,.]', '', bubble)[:-1])\n",
    "        \n",
    "        review = items.find(class_=\"reviewCount\").get_text(strip=True)\n",
    "        list_review_front.append(re.sub('[^0-9,.]', '', review))\n",
    "        \n",
    "        priceclass = items.find(class_=\"item price\").get_text(strip=True)\n",
    "        list_priceclass_front.append(priceclass)\n",
    "        \n",
    "if __name__ == '__main__':\n",
    "    get_info(url_trip)\n",
    "    \n",
    "print(list_name_front)\n",
    "print('')\n",
    "print(list_bubble_front)\n",
    "print('')\n",
    "print(list_review_front)\n",
    "print('')\n",
    "print(list_priceclass_front)"
   ]
  },
  {
   "cell_type": "code",
   "execution_count": 166,
   "metadata": {},
   "outputs": [],
   "source": [
    "\n",
    "dollar_dict = {\n",
    "    '$$$$ - $$$$$' : '4.5',\n",
    "    '$$$ - $$$$' : '3.5',\n",
    "    '$$ - $$$' : '2.5',\n",
    "    '$ - $' : '1.5',\n",
    "    '$$$$$' : '5',\n",
    "    '$$$$' : '4',\n",
    "    '$$$' : '3',\n",
    "    '$$' : '2',\n",
    "    '$' : '1'\n",
    "}"
   ]
  },
  {
   "cell_type": "code",
   "execution_count": null,
   "metadata": {},
   "outputs": [],
   "source": [
    "# creating lists for each variable\n",
    "\n",
    "list_price_class_number = []\n",
    "list_price_class_value = []\n",
    "list_bubbles = []\n",
    "list_food_bubbles = []\n",
    "list_service_bubbles = []\n",
    "list_price_bubbles = []\n",
    "list_atmos_bubbles = []\n",
    "list_ranking = []\n",
    "list_number_of_ratings = []\n",
    "list_lat = []\n",
    "list_long = []"
   ]
  },
  {
   "cell_type": "code",
   "execution_count": 83,
   "metadata": {},
   "outputs": [
    {
     "name": "stdout",
     "output_type": "stream",
     "text": [
      "title Ravnsborg Kitchen &amp; Bar\n",
      "price class \n",
      "price_class_value 1660.249.\n",
      "bubbles 4,5\n",
      "<span class=\"\">Nr. 81</span>\n",
      "None\n"
     ]
    }
   ],
   "source": [
    "#test link til scraping af de individuelle sider\n",
    "web_url = 'https://www.tripadvisor.dk/Restaurant_Review-g189541-d10451770-Reviews-Ravnsborg_Kitchen_Bar-Copenhagen_Zealand.html'\n",
    "url = ureq(web_url)\n",
    "url_html = url.read()\n",
    "url.close()\n",
    "url_soup = soup(url_html,'lxml')\n",
    "\n",
    "#Exstracting title\n",
    "title = str(url_soup.find(class_=\"ui_header h1\"))\n",
    "print('title'+' '+title.split('>')[1].split('<')[0])\n",
    "\n",
    "\n",
    "#Exstracting price_class_number $$$\n",
    "price_class_number = str(url_soup.find(href=\"/Restaurants-g189541-Copenhagen_Zealand.html?pid=8\"))\n",
    "print('price class'+' '+re.sub('[^$]', '', price_class_number))\n",
    "\n",
    "#Exstracting price_class_value\n",
    "price_class_value = str(url_soup.find(class_=\"restaurants-detail-overview-cards-DetailsSectionOverviewCard__tagText--1OH6h\"))\n",
    "print('price_class_value'+' '+re.sub('[^0-9,.]', '', price_class_value)) #problemer med at lave string pæn\n",
    "\n",
    "\n",
    "#Exstracting number of bubbles\n",
    "bubbles = str(url_soup.find(class_=\"restaurants-detail-overview-cards-RatingsOverviewCard__overallRating--nohTl\"))    \n",
    "print('bubbles'+' '+re.sub('[^0-9,.]', '', bubbles)) #stripping all other than the ranking numbers\n",
    "\n",
    "#Exstracting list_ranking\n",
    "list_ranking =str(url_soup.find(class_=\"restaurants-detail-overview-cards-RatingsOverviewCard__ranking--17CmN\").find('span', class_=\"\"))\n",
    "print(list_ranking)\n",
    "#print('list_ranking'+' '+re.sub('[^0-9,.]', '', list_ranking)\n",
    "\n",
    "#Exstracting long and lat\n",
    "longlat = str(url_soup.find(class_=\"restaurants-detail-overview-cards-LocationOverviewCard__mapImage--22-Al\"))\n",
    "print(longlat)"
   ]
  },
  {
   "cell_type": "code",
   "execution_count": null,
   "metadata": {},
   "outputs": [],
   "source": []
  }
 ],
 "metadata": {
  "kernelspec": {
   "display_name": "Python 3",
   "language": "python",
   "name": "python3"
  },
  "language_info": {
   "codemirror_mode": {
    "name": "ipython",
    "version": 3
   },
   "file_extension": ".py",
   "mimetype": "text/x-python",
   "name": "python",
   "nbconvert_exporter": "python",
   "pygments_lexer": "ipython3",
   "version": "3.7.3"
  }
 },
 "nbformat": 4,
 "nbformat_minor": 2
}
