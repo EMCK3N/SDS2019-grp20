{
 "cells": [
  {
   "cell_type": "code",
   "execution_count": 35,
   "metadata": {},
   "outputs": [],
   "source": [
    "import bs4 as bs\n",
    "from urllib.request import urlopen as ureq\n",
    "from bs4 import BeautifulSoup as soup\n",
    "import pandas as pd\n",
    "import urllib.request\n",
    "import re"
   ]
  },
  {
   "cell_type": "code",
   "execution_count": 28,
   "metadata": {},
   "outputs": [],
   "source": [
    "url_trip = 'https://www.tripadvisor.dk/Restaurants-g189541-Copenhagen_Zealand.html#EATERY_OVERVIEW_BOX'\n",
    "\n",
    "trip = ureq(url_trip)\n",
    "trip_html = trip.read()\n",
    "trip.close()"
   ]
  },
  {
   "cell_type": "code",
   "execution_count": 27,
   "metadata": {},
   "outputs": [],
   "source": [
    "trip_soup = soup(trip_html, \"lxml\")"
   ]
  },
  {
   "cell_type": "code",
   "execution_count": 22,
   "metadata": {},
   "outputs": [
    {
     "name": "stdout",
     "output_type": "stream",
     "text": [
      "The Vietnamese 4,5 ud af 5 bobler 65 anmeldelser\n",
      "Grams Lækkerier 5 ud af 5 bobler 718 anmeldelser\n",
      "Restaurant Krebsegaarden 5 ud af 5 bobler 1.309 anmeldelser\n",
      "The Olive Kitchen & Bar 5 ud af 5 bobler 2.129 anmeldelser\n",
      "Søllerød Kro 5 ud af 5 bobler 337 anmeldelser\n",
      "Zahida at Kellerdirk 5 ud af 5 bobler 876 anmeldelser\n",
      "Pizzeria Mamemi & Wine Bar 5 ud af 5 bobler 923 anmeldelser\n",
      "The Pescatarian 5 ud af 5 bobler 194 anmeldelser\n",
      "Geranium 4,5 ud af 5 bobler 1.052 anmeldelser\n",
      "Café Komplet 4,5 ud af 5 bobler 345 anmeldelser\n",
      "Marv & Ben 4,5 ud af 5 bobler 634 anmeldelser\n",
      "Enomania 4,5 ud af 5 bobler 244 anmeldelser\n",
      "Banana Joe 4,5 ud af 5 bobler 411 anmeldelser\n",
      "Kokkeriet 4,5 ud af 5 bobler 768 anmeldelser\n",
      "Mielcke & Hurtigkarl 4,5 ud af 5 bobler 252 anmeldelser\n",
      "Husmann's Vinstue 4,5 ud af 5 bobler 252 anmeldelser\n",
      "Restaurant leaven 4,5 ud af 5 bobler 309 anmeldelser\n",
      "Trattoria SUD 4,5 ud af 5 bobler 301 anmeldelser\n",
      "Basso København 4,5 ud af 5 bobler 338 anmeldelser\n",
      "Restaurant Schonnemann 4,5 ud af 5 bobler 161 anmeldelser\n",
      "BODIL - et spisested 4,5 ud af 5 bobler 208 anmeldelser\n",
      "The Red Box 4,5 ud af 5 bobler 514 anmeldelser\n",
      "Studio - The Standard 4,5 ud af 5 bobler 452 anmeldelser\n",
      "Trattoria l’Alba 4,5 ud af 5 bobler 173 anmeldelser\n",
      "Restaurant Garden 4,5 ud af 5 bobler 133 anmeldelser\n",
      "Frederiks Have 4,5 ud af 5 bobler 529 anmeldelser\n",
      "Ché Fè 4,5 ud af 5 bobler 577 anmeldelser\n",
      "Goomi 4,5 ud af 5 bobler 271 anmeldelser\n",
      "Feed Bistro 4,5 ud af 5 bobler 547 anmeldelser\n",
      "Restaurant Grønnegade 4,5 ud af 5 bobler 522 anmeldelser\n",
      "Souls 4,5 ud af 5 bobler 646 anmeldelser\n"
     ]
    }
   ],
   "source": [
    "def get_info(link):\n",
    "    response = urllib.request.urlopen(link)\n",
    "    for items in trip_soup.find_all(class_=\"shortSellDetails\"):\n",
    "        name = items.find(class_=\"property_title\").get_text(strip=True)\n",
    "        bubble = items.find(class_=\"ui_bubble_rating\").get(\"alt\")\n",
    "        review = items.find(class_=\"reviewCount\").get_text(strip=True)\n",
    "        print(name,bubble,review)\n",
    "\n",
    "if __name__ == '__main__':\n",
    "    get_info(url_trip)"
   ]
  },
  {
   "cell_type": "code",
   "execution_count": null,
   "metadata": {},
   "outputs": [],
   "source": [
    "# creating lists for each variable\n",
    "\n",
    "list_price_class_number = []\n",
    "list_price_class_value = []\n",
    "list_bubbles = []\n",
    "list_food_bubbles = []\n",
    "list_service_bubbles = []\n",
    "list_price_bubbles = []\n",
    "list_atmos_bubbles = []\n",
    "list_ranking = []\n",
    "list_number_of_ratings = []\n",
    "list_lat = []\n",
    "list_long = []"
   ]
  },
  {
   "cell_type": "code",
   "execution_count": 82,
   "metadata": {},
   "outputs": [
    {
     "name": "stdout",
     "output_type": "stream",
     "text": [
      "title WOK Vesterbro\n",
      "price class \n",
      "price_class_value 16,,,\n",
      "bubbles 4,5\n",
      "<span class=\"\">Nr. 384</span>\n",
      "None\n"
     ]
    }
   ],
   "source": [
    "#test link til scraping af de individuelle sider\n",
    "web_url = 'https://www.tripadvisor.dk/Restaurant_Review-g189541-d2436252-Reviews-WOK_Vesterbro-Copenhagen_Zealand.html'\n",
    "url = ureq(web_url)\n",
    "url_html = url.read()\n",
    "url.close()\n",
    "url_soup = soup(url_html,'lxml')\n",
    "\n",
    "#Exstracting title\n",
    "title = str(url_soup.find(class_=\"ui_header h1\"))\n",
    "print('title'+' '+title.split('>')[1].split('<')[0])\n",
    "\n",
    "\n",
    "#Exstracting price_class_number $$$\n",
    "price_class_number = str(url_soup.find(href=\"/Restaurants-g189541-Copenhagen_Zealand.html?pid=8\"))\n",
    "print('price class'+' '+re.sub('[^$]', '', price_class_number))\n",
    "\n",
    "#Exstracting price_class_value\n",
    "price_class_value = str(url_soup.find(class_=\"restaurants-detail-overview-cards-DetailsSectionOverviewCard__tagText--1OH6h\"))\n",
    "print('price_class_value'+' '+re.sub('[^0-9,.]', '', price_class_value)) #problemer med at lave string pæn\n",
    "\n",
    "\n",
    "#Exstracting number of bubbles\n",
    "bubbles = str(url_soup.find(class_=\"restaurants-detail-overview-cards-RatingsOverviewCard__overallRating--nohTl\"))    \n",
    "print('bubbles'+' '+re.sub('[^0-9,.]', '', bubbles)) #stripping all other than the ranking numbers\n",
    "\n",
    "#Exstracting list_ranking\n",
    "list_ranking =str(url_soup.find(class_=\"restaurants-detail-overview-cards-RatingsOverviewCard__ranking--17CmN\").find('span', class_=\"\"))\n",
    "print(list_ranking)\n",
    "#print('list_ranking'+' '+re.sub('[^0-9,.]', '', list_ranking)\n",
    "\n",
    "#Exstracting long and lat\n",
    "longlat = str(url_soup.find(class_=\"restaurants-detail-overview-cards-LocationOverviewCard__mapImage--22-Al\"))\n",
    "print(longlat)"
   ]
  },
  {
   "cell_type": "code",
   "execution_count": null,
   "metadata": {},
   "outputs": [],
   "source": []
  }
 ],
 "metadata": {
  "kernelspec": {
   "display_name": "Python 3",
   "language": "python",
   "name": "python3"
  },
  "language_info": {
   "codemirror_mode": {
    "name": "ipython",
    "version": 3
   },
   "file_extension": ".py",
   "mimetype": "text/x-python",
   "name": "python",
   "nbconvert_exporter": "python",
   "pygments_lexer": "ipython3",
   "version": "3.7.3"
  }
 },
 "nbformat": 4,
 "nbformat_minor": 2
}
