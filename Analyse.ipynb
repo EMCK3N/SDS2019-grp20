{
 "cells": [
  {
   "cell_type": "code",
   "execution_count": 52,
   "metadata": {},
   "outputs": [
    {
     "data": {
      "text/html": [
       "<div>\n",
       "<style scoped>\n",
       "    .dataframe tbody tr th:only-of-type {\n",
       "        vertical-align: middle;\n",
       "    }\n",
       "\n",
       "    .dataframe tbody tr th {\n",
       "        vertical-align: top;\n",
       "    }\n",
       "\n",
       "    .dataframe thead th {\n",
       "        text-align: right;\n",
       "    }\n",
       "</style>\n",
       "<table border=\"1\" class=\"dataframe\">\n",
       "  <thead>\n",
       "    <tr style=\"text-align: right;\">\n",
       "      <th></th>\n",
       "      <th>Name</th>\n",
       "      <th>Main rating</th>\n",
       "      <th>Ranking on list</th>\n",
       "      <th>Price range</th>\n",
       "      <th>Number of reviews</th>\n",
       "      <th>Location</th>\n",
       "      <th>God pris</th>\n",
       "      <th>Mad</th>\n",
       "      <th>Service</th>\n",
       "      <th>Stemning</th>\n",
       "    </tr>\n",
       "  </thead>\n",
       "  <tbody>\n",
       "    <tr>\n",
       "      <th>0</th>\n",
       "      <td>Kokkeriet</td>\n",
       "      <td>4,5</td>\n",
       "      <td>13</td>\n",
       "      <td>------16770.-970.</td>\n",
       "      <td>769 anmeldelser</td>\n",
       "      <td>55.687626,12.585126</td>\n",
       "      <td>45</td>\n",
       "      <td>50</td>\n",
       "      <td>50</td>\n",
       "      <td>NaN</td>\n",
       "    </tr>\n",
       "    <tr>\n",
       "      <th>1</th>\n",
       "      <td>The Olive Kitchen &amp;amp; Bar</td>\n",
       "      <td>5,0</td>\n",
       "      <td>3</td>\n",
       "      <td>------1674.-174.</td>\n",
       "      <td>2.138 anmeldelser</td>\n",
       "      <td>55.68125,12.571284</td>\n",
       "      <td>45</td>\n",
       "      <td>50</td>\n",
       "      <td>50</td>\n",
       "      <td>NaN</td>\n",
       "    </tr>\n",
       "    <tr>\n",
       "      <th>2</th>\n",
       "      <td>Pizzeria Mamemi &amp;amp; Wine Bar</td>\n",
       "      <td>5,0</td>\n",
       "      <td>7</td>\n",
       "      <td>------16,,,</td>\n",
       "      <td>927 anmeldelser</td>\n",
       "      <td>55.667767,12.548116</td>\n",
       "      <td>45</td>\n",
       "      <td>50</td>\n",
       "      <td>50</td>\n",
       "      <td>NaN</td>\n",
       "    </tr>\n",
       "    <tr>\n",
       "      <th>3</th>\n",
       "      <td>Zahida at Kellerdirk</td>\n",
       "      <td>5,0</td>\n",
       "      <td>5</td>\n",
       "      <td>------1647.-248.</td>\n",
       "      <td>878 anmeldelser</td>\n",
       "      <td>55.67162,12.546196</td>\n",
       "      <td>45</td>\n",
       "      <td>50</td>\n",
       "      <td>50</td>\n",
       "      <td>NaN</td>\n",
       "    </tr>\n",
       "    <tr>\n",
       "      <th>4</th>\n",
       "      <td>Grams Lækkerier</td>\n",
       "      <td>5,0</td>\n",
       "      <td>1</td>\n",
       "      <td>------1633.-100.</td>\n",
       "      <td>720 anmeldelser</td>\n",
       "      <td>55.671036,12.562724</td>\n",
       "      <td>45</td>\n",
       "      <td>50</td>\n",
       "      <td>50</td>\n",
       "      <td>45.0</td>\n",
       "    </tr>\n",
       "  </tbody>\n",
       "</table>\n",
       "</div>"
      ],
      "text/plain": [
       "                             Name Main rating  Ranking on list  \\\n",
       "0                       Kokkeriet         4,5               13   \n",
       "1     The Olive Kitchen &amp; Bar         5,0                3   \n",
       "2  Pizzeria Mamemi &amp; Wine Bar         5,0                7   \n",
       "3            Zahida at Kellerdirk         5,0                5   \n",
       "4                 Grams Lækkerier         5,0                1   \n",
       "\n",
       "         Price range  Number of reviews             Location  God pris  Mad  \\\n",
       "0  ------16770.-970.    769 anmeldelser  55.687626,12.585126        45   50   \n",
       "1   ------1674.-174.  2.138 anmeldelser   55.68125,12.571284        45   50   \n",
       "2        ------16,,,    927 anmeldelser  55.667767,12.548116        45   50   \n",
       "3   ------1647.-248.    878 anmeldelser   55.67162,12.546196        45   50   \n",
       "4   ------1633.-100.    720 anmeldelser  55.671036,12.562724        45   50   \n",
       "\n",
       "   Service  Stemning  \n",
       "0       50       NaN  \n",
       "1       50       NaN  \n",
       "2       50       NaN  \n",
       "3       50       NaN  \n",
       "4       50      45.0  "
      ]
     },
     "execution_count": 52,
     "metadata": {},
     "output_type": "execute_result"
    }
   ],
   "source": [
    "import pandas as pd\n",
    "import matplotlib\n",
    "# Import data \n",
    "#data = pd.read_excel(\"data cleaned.xlsx\", sheet_name=\"Sheet1\")\n",
    "data = pd.read_csv(\"Tripadvisordata.csv\")\n",
    "data.head()"
   ]
  },
  {
   "cell_type": "code",
   "execution_count": 45,
   "metadata": {},
   "outputs": [
    {
     "ename": "TypeError",
     "evalue": "'Series' object is not callable",
     "output_type": "error",
     "traceback": [
      "\u001b[1;31m---------------------------------------------------------------------------\u001b[0m",
      "\u001b[1;31mTypeError\u001b[0m                                 Traceback (most recent call last)",
      "\u001b[1;32m<ipython-input-45-59efb65194a9>\u001b[0m in \u001b[0;36m<module>\u001b[1;34m()\u001b[0m\n\u001b[0;32m      1\u001b[0m \u001b[0mlist1\u001b[0m \u001b[1;33m=\u001b[0m \u001b[0mdata\u001b[0m\u001b[1;33m[\u001b[0m\u001b[1;34m\"Price class\"\u001b[0m\u001b[1;33m]\u001b[0m\u001b[1;33m\u001b[0m\u001b[1;33m\u001b[0m\u001b[0m\n\u001b[1;32m----> 2\u001b[1;33m \u001b[0mlist2\u001b[0m \u001b[1;33m=\u001b[0m \u001b[0mlist\u001b[0m\u001b[1;33m(\u001b[0m\u001b[0mlist1\u001b[0m\u001b[1;33m)\u001b[0m\u001b[1;33m\u001b[0m\u001b[1;33m\u001b[0m\u001b[0m\n\u001b[0m\u001b[0;32m      3\u001b[0m \u001b[1;33m\u001b[0m\u001b[0m\n\u001b[0;32m      4\u001b[0m \u001b[1;32mfor\u001b[0m \u001b[0mi\u001b[0m \u001b[1;32min\u001b[0m \u001b[0mlist2\u001b[0m\u001b[1;33m:\u001b[0m\u001b[1;33m\u001b[0m\u001b[1;33m\u001b[0m\u001b[0m\n\u001b[0;32m      5\u001b[0m     \u001b[1;32mif\u001b[0m \u001b[0mstr\u001b[0m\u001b[1;33m(\u001b[0m\u001b[0mi\u001b[0m\u001b[1;33m[\u001b[0m\u001b[1;33m:\u001b[0m\u001b[1;33m-\u001b[0m\u001b[1;36m1\u001b[0m\u001b[1;33m]\u001b[0m\u001b[1;33m)\u001b[0m \u001b[1;33m==\u001b[0m \u001b[1;34m\"-\"\u001b[0m\u001b[1;33m:\u001b[0m\u001b[1;33m\u001b[0m\u001b[1;33m\u001b[0m\u001b[0m\n",
      "\u001b[1;31mTypeError\u001b[0m: 'Series' object is not callable"
     ]
    }
   ],
   "source": [
    "data[\"\"]\n"
   ]
  },
  {
   "cell_type": "code",
   "execution_count": 13,
   "metadata": {},
   "outputs": [],
   "source": [
    "data = pd.DataFrame(data)"
   ]
  },
  {
   "cell_type": "code",
   "execution_count": 51,
   "metadata": {},
   "outputs": [
    {
     "name": "stdout",
     "output_type": "stream",
     "text": [
      "       Ranking on list    God pris         Mad     Service   Stemning\n",
      "count       100.000000  100.000000  100.000000  100.000000  54.000000\n",
      "mean         57.260000   43.800000   45.850000   45.850000  44.259259\n",
      "std          81.437169    2.369844    2.467465    3.019716   2.458602\n",
      "min           1.000000   40.000000   40.000000   35.000000  40.000000\n",
      "25%          20.750000   40.000000   45.000000   45.000000  45.000000\n",
      "50%          47.500000   45.000000   45.000000   45.000000  45.000000\n",
      "75%          73.250000   45.000000   45.000000   50.000000  45.000000\n",
      "max         715.000000   50.000000   50.000000   50.000000  50.000000\n"
     ]
    }
   ],
   "source": [
    "# create summary table to get an overview of the data \n",
    "\n",
    "sum_tab = data.describe()\n",
    "pd.set_option('display.max_rows', 500)\n",
    "print(sum_tab)\n"
   ]
  },
  {
   "cell_type": "code",
   "execution_count": 53,
   "metadata": {},
   "outputs": [
    {
     "name": "stderr",
     "output_type": "stream",
     "text": [
      "'c' argument looks like a single numeric RGB or RGBA sequence, which should be avoided as value-mapping will have precedence in case its length matches with 'x' & 'y'.  Please use a 2-D array with a single row if you really want to specify the same RGB or RGBA value for all points.\n"
     ]
    },
    {
     "data": {
      "image/png": "[encoded data removed]",
      "text/plain": [
       "<Figure size 432x288 with 1 Axes>"
      ]
     },
     "metadata": {
      "needs_background": "light"
     },
     "output_type": "display_data"
    }
   ],
   "source": [
    "#Make scatterplots\n",
    "\n",
    "import numpy as np\n",
    "import matplotlib.pyplot as plt\n",
    "\n",
    "# Create data\n",
    "\n",
    "# Plot\n",
    "plt.scatter(data[\"Service\"], data[\"Main rating\"], s=area, c=colors, alpha=0.5)\n",
    "plt.title('Scatter plot pythonspot.com')\n",
    "plt.xlabel('x')\n",
    "plt.ylabel('y')\n",
    "plt.show()\n",
    "\n"
   ]
  },
  {
   "cell_type": "markdown",
   "metadata": {},
   "source": [
    "## Ideer \n",
    "\n",
    "Afstand/vurderings scatter (evt binned)\n",
    "Afstand/kvalitet scatter (evt binned)\n",
    "Afstand/service scatter (evt binned)\n",
    "Pris/kvalitet plot\n",
    "\n",
    "Vurdering/antal anmeldelser\n",
    "\n",
    "Priskort\n",
    "Kvallitetskort\n"
   ]
  },
  {
   "cell_type": "code",
   "execution_count": null,
   "metadata": {},
   "outputs": [],
   "source": []
  }
 ],
 "metadata": {
  "kernelspec": {
   "display_name": "Python 3",
   "language": "python",
   "name": "python3"
  },
  "language_info": {
   "codemirror_mode": {
    "name": "ipython",
    "version": 3
   },
   "file_extension": ".py",
   "mimetype": "text/x-python",
   "name": "python",
   "nbconvert_exporter": "python",
   "pygments_lexer": "ipython3",
   "version": "3.7.3"
  }
 },
 "nbformat": 4,
 "nbformat_minor": 2
}
