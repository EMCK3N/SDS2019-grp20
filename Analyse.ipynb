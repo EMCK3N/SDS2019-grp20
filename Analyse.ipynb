{
 "cells": [
  {
   "cell_type": "code",
   "execution_count": 43,
   "metadata": {},
   "outputs": [
    {
     "data": {
      "text/html": [
       "<div>\n",
       "<style scoped>\n",
       "    .dataframe tbody tr th:only-of-type {\n",
       "        vertical-align: middle;\n",
       "    }\n",
       "\n",
       "    .dataframe tbody tr th {\n",
       "        vertical-align: top;\n",
       "    }\n",
       "\n",
       "    .dataframe thead th {\n",
       "        text-align: right;\n",
       "    }\n",
       "</style>\n",
       "<table border=\"1\" class=\"dataframe\">\n",
       "  <thead>\n",
       "    <tr style=\"text-align: right;\">\n",
       "      <th></th>\n",
       "      <th>F1</th>\n",
       "      <th>Location</th>\n",
       "      <th>Number of reviews</th>\n",
       "      <th>Price class</th>\n",
       "      <th>Main rating</th>\n",
       "      <th>Ranking on list</th>\n",
       "      <th>Price range</th>\n",
       "      <th>clean dollar</th>\n",
       "      <th>Location1</th>\n",
       "      <th>Location2</th>\n",
       "      <th>Price class1</th>\n",
       "      <th>Price class2</th>\n",
       "      <th>Price range1</th>\n",
       "      <th>Price range2</th>\n",
       "      <th>high dollar</th>\n",
       "      <th>high price</th>\n",
       "    </tr>\n",
       "  </thead>\n",
       "  <tbody>\n",
       "    <tr>\n",
       "      <th>0</th>\n",
       "      <td>0</td>\n",
       "      <td>55.681705,12.583386</td>\n",
       "      <td>525</td>\n",
       "      <td>$$$$-</td>\n",
       "      <td>4.5</td>\n",
       "      <td>28</td>\n",
       "      <td>201-663</td>\n",
       "      <td>$$$$</td>\n",
       "      <td>55.681705</td>\n",
       "      <td>12.583386</td>\n",
       "      <td>$$$$</td>\n",
       "      <td>NaN</td>\n",
       "      <td>201.0</td>\n",
       "      <td>663.0</td>\n",
       "      <td>$$$$</td>\n",
       "      <td>663.0</td>\n",
       "    </tr>\n",
       "    <tr>\n",
       "      <th>1</th>\n",
       "      <td>1</td>\n",
       "      <td>55.678543,12.589863</td>\n",
       "      <td>176</td>\n",
       "      <td>$$-$$$-</td>\n",
       "      <td>4.5</td>\n",
       "      <td>23</td>\n",
       "      <td>248-388</td>\n",
       "      <td>$$-$$$</td>\n",
       "      <td>55.678543</td>\n",
       "      <td>12.589863</td>\n",
       "      <td>$$</td>\n",
       "      <td>$$$</td>\n",
       "      <td>248.0</td>\n",
       "      <td>388.0</td>\n",
       "      <td>$$$</td>\n",
       "      <td>388.0</td>\n",
       "    </tr>\n",
       "    <tr>\n",
       "      <th>2</th>\n",
       "      <td>2</td>\n",
       "      <td>55.683018,12.586555</td>\n",
       "      <td>515</td>\n",
       "      <td>$$-$$$-</td>\n",
       "      <td>4.5</td>\n",
       "      <td>21</td>\n",
       "      <td>341-489</td>\n",
       "      <td>$$-$$$</td>\n",
       "      <td>55.683018</td>\n",
       "      <td>12.586555</td>\n",
       "      <td>$$</td>\n",
       "      <td>$$$</td>\n",
       "      <td>341.0</td>\n",
       "      <td>489.0</td>\n",
       "      <td>$$$</td>\n",
       "      <td>489.0</td>\n",
       "    </tr>\n",
       "    <tr>\n",
       "      <th>3</th>\n",
       "      <td>3</td>\n",
       "      <td>55.684223,12.585324</td>\n",
       "      <td>580</td>\n",
       "      <td>$$-$$$-</td>\n",
       "      <td>4.5</td>\n",
       "      <td>30</td>\n",
       "      <td>348-495</td>\n",
       "      <td>$$-$$$</td>\n",
       "      <td>55.684223</td>\n",
       "      <td>12.585324</td>\n",
       "      <td>$$</td>\n",
       "      <td>$$$</td>\n",
       "      <td>348.0</td>\n",
       "      <td>495.0</td>\n",
       "      <td>$$$</td>\n",
       "      <td>495.0</td>\n",
       "    </tr>\n",
       "    <tr>\n",
       "      <th>4</th>\n",
       "      <td>4</td>\n",
       "      <td>55.679256,12.524991</td>\n",
       "      <td>529</td>\n",
       "      <td>$$$$-</td>\n",
       "      <td>4.5</td>\n",
       "      <td>3</td>\n",
       "      <td>107-535</td>\n",
       "      <td>$$$$</td>\n",
       "      <td>55.679256</td>\n",
       "      <td>12.524991</td>\n",
       "      <td>$$$$</td>\n",
       "      <td>NaN</td>\n",
       "      <td>107.0</td>\n",
       "      <td>535.0</td>\n",
       "      <td>$$$$</td>\n",
       "      <td>535.0</td>\n",
       "    </tr>\n",
       "  </tbody>\n",
       "</table>\n",
       "</div>"
      ],
      "text/plain": [
       "   F1             Location  Number of reviews Price class  Main rating  \\\n",
       "0   0  55.681705,12.583386                525       $$$$-          4.5   \n",
       "1   1  55.678543,12.589863                176     $$-$$$-          4.5   \n",
       "2   2  55.683018,12.586555                515     $$-$$$-          4.5   \n",
       "3   3  55.684223,12.585324                580     $$-$$$-          4.5   \n",
       "4   4  55.679256,12.524991                529       $$$$-          4.5   \n",
       "\n",
       "   Ranking on list Price range clean dollar  Location1  Location2  \\\n",
       "0               28     201-663         $$$$  55.681705  12.583386   \n",
       "1               23     248-388       $$-$$$  55.678543  12.589863   \n",
       "2               21     341-489       $$-$$$  55.683018  12.586555   \n",
       "3               30     348-495       $$-$$$  55.684223  12.585324   \n",
       "4                3     107-535         $$$$  55.679256  12.524991   \n",
       "\n",
       "  Price class1 Price class2  Price range1  Price range2 high dollar  \\\n",
       "0         $$$$          NaN         201.0         663.0        $$$$   \n",
       "1           $$          $$$         248.0         388.0         $$$   \n",
       "2           $$          $$$         341.0         489.0         $$$   \n",
       "3           $$          $$$         348.0         495.0         $$$   \n",
       "4         $$$$          NaN         107.0         535.0        $$$$   \n",
       "\n",
       "   high price  \n",
       "0       663.0  \n",
       "1       388.0  \n",
       "2       489.0  \n",
       "3       495.0  \n",
       "4       535.0  "
      ]
     },
     "execution_count": 43,
     "metadata": {},
     "output_type": "execute_result"
    }
   ],
   "source": [
    "import pandas as pd\n",
    "import matplotlib\n",
    "# Import data \n",
    "data = pd.read_excel(\"data cleaned.xlsx\", sheet_name=\"Sheet1\")\n",
    "data.head()"
   ]
  },
  {
   "cell_type": "code",
   "execution_count": 45,
   "metadata": {},
   "outputs": [
    {
     "ename": "TypeError",
     "evalue": "'Series' object is not callable",
     "output_type": "error",
     "traceback": [
      "\u001b[1;31m---------------------------------------------------------------------------\u001b[0m",
      "\u001b[1;31mTypeError\u001b[0m                                 Traceback (most recent call last)",
      "\u001b[1;32m<ipython-input-45-59efb65194a9>\u001b[0m in \u001b[0;36m<module>\u001b[1;34m()\u001b[0m\n\u001b[0;32m      1\u001b[0m \u001b[0mlist1\u001b[0m \u001b[1;33m=\u001b[0m \u001b[0mdata\u001b[0m\u001b[1;33m[\u001b[0m\u001b[1;34m\"Price class\"\u001b[0m\u001b[1;33m]\u001b[0m\u001b[1;33m\u001b[0m\u001b[1;33m\u001b[0m\u001b[0m\n\u001b[1;32m----> 2\u001b[1;33m \u001b[0mlist2\u001b[0m \u001b[1;33m=\u001b[0m \u001b[0mlist\u001b[0m\u001b[1;33m(\u001b[0m\u001b[0mlist1\u001b[0m\u001b[1;33m)\u001b[0m\u001b[1;33m\u001b[0m\u001b[1;33m\u001b[0m\u001b[0m\n\u001b[0m\u001b[0;32m      3\u001b[0m \u001b[1;33m\u001b[0m\u001b[0m\n\u001b[0;32m      4\u001b[0m \u001b[1;32mfor\u001b[0m \u001b[0mi\u001b[0m \u001b[1;32min\u001b[0m \u001b[0mlist2\u001b[0m\u001b[1;33m:\u001b[0m\u001b[1;33m\u001b[0m\u001b[1;33m\u001b[0m\u001b[0m\n\u001b[0;32m      5\u001b[0m     \u001b[1;32mif\u001b[0m \u001b[0mstr\u001b[0m\u001b[1;33m(\u001b[0m\u001b[0mi\u001b[0m\u001b[1;33m[\u001b[0m\u001b[1;33m:\u001b[0m\u001b[1;33m-\u001b[0m\u001b[1;36m1\u001b[0m\u001b[1;33m]\u001b[0m\u001b[1;33m)\u001b[0m \u001b[1;33m==\u001b[0m \u001b[1;34m\"-\"\u001b[0m\u001b[1;33m:\u001b[0m\u001b[1;33m\u001b[0m\u001b[1;33m\u001b[0m\u001b[0m\n",
      "\u001b[1;31mTypeError\u001b[0m: 'Series' object is not callable"
     ]
    }
   ],
   "source": [
    "\n"
   ]
  },
  {
   "cell_type": "code",
   "execution_count": 13,
   "metadata": {},
   "outputs": [],
   "source": [
    "data = pd.DataFrame(data)"
   ]
  },
  {
   "cell_type": "code",
   "execution_count": 18,
   "metadata": {},
   "outputs": [
    {
     "name": "stdout",
     "output_type": "stream",
     "text": [
      "               F1  Number of reviews  Main rating  Ranking on list  \\\n",
      "count  656.000000         656.000000   656.000000       656.000000   \n",
      "mean   327.500000         274.411585     4.247713       315.324695   \n",
      "std    189.515171         326.558340     0.383827       217.550267   \n",
      "min      0.000000          12.000000     3.000000         1.000000   \n",
      "25%    163.750000          70.750000     4.000000       135.750000   \n",
      "50%    327.500000         162.500000     4.500000       308.500000   \n",
      "75%    491.250000         333.500000     4.500000       475.250000   \n",
      "max    655.000000        2866.000000     5.000000      1421.000000   \n",
      "\n",
      "        Location1   Location2  Price range1  Price range2   high price  \n",
      "count  656.000000  656.000000    346.000000    346.000000   346.000000  \n",
      "mean    55.679437   12.570404    182.786127    568.777457   568.777457  \n",
      "std      0.011878    0.021999    362.021611    926.762355   926.762355  \n",
      "min     55.631634   12.276364      1.000000      1.000000     1.000000  \n",
      "25%     55.673450   12.559009     47.000000    147.000000   147.000000  \n",
      "50%     55.678877   12.573531     80.000000    254.000000   254.000000  \n",
      "75%     55.683253   12.584205    147.000000    549.000000   549.000000  \n",
      "max     55.813576   12.654269   4651.000000   6692.000000  6692.000000  \n"
     ]
    }
   ],
   "source": [
    "# create summary table to get an overview of the data \n",
    "\n",
    "sum_tab = data.describe()\n",
    "pd.set_option('display.max_rows', 500)\n",
    "print(sum_tab)\n"
   ]
  },
  {
   "cell_type": "code",
   "execution_count": 1,
   "metadata": {},
   "outputs": [
    {
     "ename": "ModuleNotFoundError",
     "evalue": "No module named 'binscatter'",
     "output_type": "error",
     "traceback": [
      "\u001b[1;31m---------------------------------------------------------------------------\u001b[0m",
      "\u001b[1;31mModuleNotFoundError\u001b[0m                       Traceback (most recent call last)",
      "\u001b[1;32m<ipython-input-1-8f1bf39e9b48>\u001b[0m in \u001b[0;36m<module>\u001b[1;34m()\u001b[0m\n\u001b[0;32m      1\u001b[0m \u001b[1;31m# Kode til binned scatter plot\u001b[0m\u001b[1;33m\u001b[0m\u001b[1;33m\u001b[0m\u001b[1;33m\u001b[0m\u001b[0m\n\u001b[1;32m----> 2\u001b[1;33m \u001b[1;32mimport\u001b[0m \u001b[0mbinscatter\u001b[0m\u001b[1;33m\u001b[0m\u001b[1;33m\u001b[0m\u001b[0m\n\u001b[0m\u001b[0;32m      3\u001b[0m \u001b[1;32mimport\u001b[0m \u001b[0mpandas\u001b[0m \u001b[1;32mas\u001b[0m \u001b[0mpd\u001b[0m\u001b[1;33m\u001b[0m\u001b[1;33m\u001b[0m\u001b[0m\n\u001b[0;32m      4\u001b[0m \u001b[1;32mimport\u001b[0m \u001b[0mnumpy\u001b[0m \u001b[1;32mas\u001b[0m \u001b[0mnp\u001b[0m\u001b[1;33m\u001b[0m\u001b[1;33m\u001b[0m\u001b[0m\n\u001b[0;32m      5\u001b[0m \u001b[1;32mfrom\u001b[0m \u001b[0mmatplotlib\u001b[0m \u001b[1;32mimport\u001b[0m \u001b[0mpyplot\u001b[0m \u001b[1;32mas\u001b[0m \u001b[0mplt\u001b[0m\u001b[1;33m\u001b[0m\u001b[1;33m\u001b[0m\u001b[0m\n",
      "\u001b[1;31mModuleNotFoundError\u001b[0m: No module named 'binscatter'"
     ]
    }
   ],
   "source": []
  },
  {
   "cell_type": "markdown",
   "metadata": {},
   "source": [
    "## Ideer \n",
    "\n",
    "Afstand/vurderings scatter (evt binned)\n",
    "Afstand/kvalitet scatter (evt binned)\n",
    "Afstand/service scatter (evt binned)\n",
    "Pris/kvalitet plot\n",
    "\n",
    "Vurdering/antal anmeldelser\n",
    "\n",
    "Priskort\n",
    "Kvallitetskort\n"
   ]
  },
  {
   "cell_type": "code",
   "execution_count": null,
   "metadata": {},
   "outputs": [],
   "source": []
  }
 ],
 "metadata": {
  "kernelspec": {
   "display_name": "Python 3",
   "language": "python",
   "name": "python3"
  },
  "language_info": {
   "codemirror_mode": {
    "name": "ipython",
    "version": 3
   },
   "file_extension": ".py",
   "mimetype": "text/x-python",
   "name": "python",
   "nbconvert_exporter": "python",
   "pygments_lexer": "ipython3",
   "version": "3.7.3"
  }
 },
 "nbformat": 4,
 "nbformat_minor": 2
}
