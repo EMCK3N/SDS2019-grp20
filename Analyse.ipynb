{
 "cells": [
  {
   "cell_type": "code",
   "execution_count": null,
   "metadata": {},
   "outputs": [],
   "source": [
    "import pandas as pd\n",
    "\n",
    "# Import data \n",
    "data = pd.read_csv(\"\")"
   ]
  },
  {
   "cell_type": "code",
   "execution_count": null,
   "metadata": {},
   "outputs": [],
   "source": [
    "# create summary table to get an overview of the data \n",
    "\n",
    "sum_tab = data.describe()\n"
   ]
  },
  {
   "cell_type": "code",
   "execution_count": 1,
   "metadata": {},
   "outputs": [
    {
     "ename": "ModuleNotFoundError",
     "evalue": "No module named 'binscatter'",
     "output_type": "error",
     "traceback": [
      "\u001b[1;31m---------------------------------------------------------------------------\u001b[0m",
      "\u001b[1;31mModuleNotFoundError\u001b[0m                       Traceback (most recent call last)",
      "\u001b[1;32m<ipython-input-1-8f1bf39e9b48>\u001b[0m in \u001b[0;36m<module>\u001b[1;34m()\u001b[0m\n\u001b[0;32m      1\u001b[0m \u001b[1;31m# Kode til binned scatter plot\u001b[0m\u001b[1;33m\u001b[0m\u001b[1;33m\u001b[0m\u001b[1;33m\u001b[0m\u001b[0m\n\u001b[1;32m----> 2\u001b[1;33m \u001b[1;32mimport\u001b[0m \u001b[0mbinscatter\u001b[0m\u001b[1;33m\u001b[0m\u001b[1;33m\u001b[0m\u001b[0m\n\u001b[0m\u001b[0;32m      3\u001b[0m \u001b[1;32mimport\u001b[0m \u001b[0mpandas\u001b[0m \u001b[1;32mas\u001b[0m \u001b[0mpd\u001b[0m\u001b[1;33m\u001b[0m\u001b[1;33m\u001b[0m\u001b[0m\n\u001b[0;32m      4\u001b[0m \u001b[1;32mimport\u001b[0m \u001b[0mnumpy\u001b[0m \u001b[1;32mas\u001b[0m \u001b[0mnp\u001b[0m\u001b[1;33m\u001b[0m\u001b[1;33m\u001b[0m\u001b[0m\n\u001b[0;32m      5\u001b[0m \u001b[1;32mfrom\u001b[0m \u001b[0mmatplotlib\u001b[0m \u001b[1;32mimport\u001b[0m \u001b[0mpyplot\u001b[0m \u001b[1;32mas\u001b[0m \u001b[0mplt\u001b[0m\u001b[1;33m\u001b[0m\u001b[1;33m\u001b[0m\u001b[0m\n",
      "\u001b[1;31mModuleNotFoundError\u001b[0m: No module named 'binscatter'"
     ]
    }
   ],
   "source": [
    "# Kode til binned scatter plot\n",
    "import binscatter\n",
    "import pandas as pd\n",
    "import numpy as np\n",
    "from matplotlib import pyplot as plt\n",
    "\n",
    "n_obs = 1000\n",
    "data = pd.DataFrame({'experience': np.random.poisson(4, n_obs) + 1})\n",
    "data['tenure'] = data['experience'] + np.random.normal(0, 1, n_obs)\n",
    "data['wage'] = data['experience'] + data['tenure'] + np.random.normal(0, 1, n_obs)\n",
    "fig, axes = plt.subplots(2)\n",
    "\n",
    "# Binned scatter plot of wage vs tenure\n",
    "axes[0].binscatter(data, 'wage', 'tenure')\n",
    "axes[0].set_ylabel('Wage')\n",
    "axes[0].set_ylabel('Tenure')\n",
    "\n",
    "# Binned scatter plot that partials out the effect of experience\n",
    "axes[1].binscatter(data, 'wage', 'tenure', controls=['experience'])\n",
    "axes[1].set_xlabel('Tenure (residualized)')\n",
    "axes[1].set_ylabel('Wage (residualized, recentered)')\n",
    "plt.show()"
   ]
  },
  {
   "cell_type": "markdown",
   "metadata": {},
   "source": [
    "## Ideer \n",
    "\n",
    "Afstand/vurderings scatter (evt binned)\n",
    "Afstand/kvalitet scatter (evt binned)\n",
    "Afstand/service scatter (evt binned)\n",
    "Pris/kvalitet plot\n",
    "\n",
    "Vurdering/antal anmeldelser\n",
    "\n",
    "Priskort\n",
    "Kvallitetskort\n"
   ]
  },
  {
   "cell_type": "code",
   "execution_count": null,
   "metadata": {},
   "outputs": [],
   "source": []
  }
 ],
 "metadata": {
  "kernelspec": {
   "display_name": "Python 3",
   "language": "python",
   "name": "python3"
  },
  "language_info": {
   "codemirror_mode": {
    "name": "ipython",
    "version": 3
   },
   "file_extension": ".py",
   "mimetype": "text/x-python",
   "name": "python",
   "nbconvert_exporter": "python",
   "pygments_lexer": "ipython3",
   "version": "3.7.3"
  }
 },
 "nbformat": 4,
 "nbformat_minor": 2
}
